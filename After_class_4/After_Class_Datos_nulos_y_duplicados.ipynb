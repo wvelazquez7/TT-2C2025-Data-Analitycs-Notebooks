{
 "cells": [
  {
   "cell_type": "markdown",
   "metadata": {
    "id": "Midzhc9WLszm"
   },
   "source": [
    "# Datos Nulos y Duplicados\n",
    "**Objetivo:**\n",
    "* Familiarizarse con la identificación de valores nulos en un DataFrame.\n",
    "* Reconocer y contar duplicados en un conjunto de datos.\n"
   ]
  },
  {
   "cell_type": "markdown",
   "metadata": {
    "id": "aYgJs3sPLn2u"
   },
   "source": [
    "# Datos Nulos"
   ]
  },
  {
   "cell_type": "markdown",
   "metadata": {
    "id": "d3pONncOMcCT"
   },
   "source": [
    "\n",
    "\n",
    "\n",
    "**Instrucciones:**\n",
    "\n",
    "1. Descargar el siguiente conjunto de datos: [satis_clientes.csv](https://drive.google.com/file/d/169MG1sSG8IqTtLdJwIlnBOhMkF_CN_Tb/view?usp=drive_link).\n",
    "2. Cargar los datos en un DataFrame en Python usando Pandas.\n",
    "Utilizar el método `isnull()` para identificar las filas con datos faltantes y contar el número de valores nulos por columna.\n",
    "3. Usar el método `duplicated()` para identificar las filas duplicadas y contar cuántas filas duplicadas hay en total.\n",
    "4. Crear un informe que incluya:\n",
    "  * La cantidad total de registros en el DataFrame.\n",
    "  * La cantidad total de valores nulos por columna.\n",
    "  * La cantidad de filas duplicadas.\n",
    "  * Un subconjunto de los registros duplicados para que se vea el contenido.  \n",
    "\n"
   ]
  },
  {
   "cell_type": "markdown",
   "metadata": {
    "id": "w6sEYVLfkw49"
   },
   "source": [
    "## Ver en documentación oficial\n",
    "\n",
    "[Pandas Working with missing data](https://pandas.pydata.org/docs/user_guide/missing_data.html)\n",
    "[NumPy Data Types](https://numpy.org/doc/2.3/user/basics.types.html)"
   ]
  },
  {
   "cell_type": "markdown",
   "metadata": {
    "id": "4mH-dVrdmMvd"
   },
   "source": [
    "**Sobre NULL**\n",
    "\n",
    "* NULL es la representación en bases de datos SQL.\n",
    "* Cuando importás datos a pandas (ej: con pd.read_sql o pd.read_csv), esos NULL se convierten en NaN o NaT dentro de pandas.\n",
    "* En pandas casi siempre vas a ver NaN (nulos numéricos/objetos) o NaT (nulos de tiempo).\n",
    "* No vas a ver NULL directamente, salvo en la base de datos antes de importar."
   ]
  },
  {
   "cell_type": "markdown",
   "metadata": {
    "id": "9BcLRj-bPBBl"
   },
   "source": [
    "## Veamos algunos comandos antes de comenzar\n",
    "De forma similar a numpy, pandas también tiene algunas funciones útiles para identificar y detectar valores nulos."
   ]
  },
  {
   "cell_type": "code",
   "execution_count": null,
   "metadata": {
    "id": "hILR-zpVPasg"
   },
   "outputs": [],
   "source": [
    "import numpy as np\n",
    "import pandas as pd"
   ]
  },
  {
   "cell_type": "markdown",
   "metadata": {
    "id": "uD070jn8P4m8"
   },
   "source": [
    "La función pd.isnulll() detecta valores nulos (como NaN, None, etc.) y devuelve True si el valor es nulo, o False si no lo es."
   ]
  },
  {
   "cell_type": "code",
   "execution_count": null,
   "metadata": {
    "id": "VjhduJuA8STm"
   },
   "outputs": [],
   "source": [
    "na = np.nan\n",
    "print(type(na))\n"
   ]
  },
  {
   "cell_type": "code",
   "execution_count": null,
   "metadata": {
    "id": "2qWT_RRRPEkW"
   },
   "outputs": [],
   "source": [
    "pd.isnull(np.nan)"
   ]
  },
  {
   "cell_type": "code",
   "execution_count": null,
   "metadata": {
    "id": "RCNlLEtGPPnu"
   },
   "outputs": [],
   "source": [
    "pd.isnull(None)"
   ]
  },
  {
   "cell_type": "markdown",
   "metadata": {
    "id": "fe2N_TIHPmoI"
   },
   "source": [
    "La función pd.isna() en pandas se utiliza para detectar valores nulos (missing values) en objetos, como NaN, None, etc."
   ]
  },
  {
   "cell_type": "code",
   "execution_count": null,
   "metadata": {
    "id": "Cr2jZGhDPQuC"
   },
   "outputs": [],
   "source": [
    "pd.isna(np.nan)"
   ]
  },
  {
   "cell_type": "code",
   "execution_count": null,
   "metadata": {
    "id": "AyBGqmTlPRka"
   },
   "outputs": [],
   "source": [
    "pd.isna(None)"
   ]
  },
  {
   "cell_type": "markdown",
   "metadata": {
    "id": "r1gbnAASQOop"
   },
   "source": [
    "También podemos usarlo con Series"
   ]
  },
  {
   "cell_type": "code",
   "execution_count": null,
   "metadata": {
    "id": "jsXsHkpuQNTy"
   },
   "outputs": [],
   "source": [
    "pd.isnull(pd.Series([1, np.nan, 7]))"
   ]
  },
  {
   "cell_type": "markdown",
   "metadata": {
    "id": "d6nr2WiVQR1I"
   },
   "source": [
    "O incluso con Dataframes"
   ]
  },
  {
   "cell_type": "code",
   "execution_count": null,
   "metadata": {
    "id": "2fPOD0hZQTwb"
   },
   "outputs": [],
   "source": [
    "pd.isnull(pd.DataFrame({\n",
    "    'Column A': [1, np.nan, 7],\n",
    "    'Column B': [np.nan, 2, 3],\n",
    "    'Column C': [np.nan, 2, np.nan]\n",
    "}))"
   ]
  },
  {
   "cell_type": "markdown",
   "metadata": {
    "id": "vGbFuxupQcv1"
   },
   "source": [
    "## Veamos un ejemplo"
   ]
  },
  {
   "cell_type": "code",
   "execution_count": null,
   "metadata": {
    "id": "GnYwfiMkUwj6"
   },
   "outputs": [],
   "source": [
    "# Al ejecutar este bloque, Google nos solicitará los permisos\n",
    "from google.colab import drive\n",
    "drive.mount('/content/drive')"
   ]
  },
  {
   "cell_type": "code",
   "execution_count": null,
   "metadata": {
    "id": "3a975dhtUr54"
   },
   "outputs": [],
   "source": [
    "#Para facilitar las tareas, podemos cambiar la ruta de trabajo con el método chdir() de la librería os de python.\n",
    "import os\n",
    "os.chdir('/content/drive/MyDrive/datasets')\n",
    "# os.chdir('/content/drive/My Drive/{mi ruta de carpetas}')\n",
    "!ls # muestra el contenido de la carpeta"
   ]
  },
  {
   "cell_type": "code",
   "execution_count": 152,
   "metadata": {
    "colab": {
     "base_uri": "https://localhost:8080/",
     "height": 206
    },
    "executionInfo": {
     "elapsed": 46,
     "status": "ok",
     "timestamp": 1758143141623,
     "user": {
      "displayName": "Juan Pablo Rigotti",
      "userId": "00152857968777329382"
     },
     "user_tz": 180
    },
    "id": "KGHTTWmaMbWG",
    "outputId": "2ad1619d-1204-4823-ee60-85c06f4003e6"
   },
   "outputs": [
    {
     "data": {
      "application/vnd.google.colaboratory.intrinsic+json": {
       "summary": "{\n  \"name\": \"df\",\n  \"rows\": 1128,\n  \"fields\": [\n    {\n      \"column\": \"id\",\n      \"properties\": {\n        \"dtype\": \"number\",\n        \"std\": 288,\n        \"min\": 1,\n        \"max\": 1000,\n        \"num_unique_values\": 1000,\n        \"samples\": [\n          522,\n          738,\n          741\n        ],\n        \"semantic_type\": \"\",\n        \"description\": \"\"\n      }\n    },\n    {\n      \"column\": \"Empresa\",\n      \"properties\": {\n        \"dtype\": \"string\",\n        \"num_unique_values\": 974,\n        \"samples\": [\n          \"Wintheiser and Sons\",\n          \"MacGyver Group\",\n          \"DuBuque Inc\"\n        ],\n        \"semantic_type\": \"\",\n        \"description\": \"\"\n      }\n    },\n    {\n      \"column\": \"Fecha\",\n      \"properties\": {\n        \"dtype\": \"category\",\n        \"num_unique_values\": 344,\n        \"samples\": [\n          \"07/05/2024\",\n          \"07/01/2024\",\n          \"05/11/2024\"\n        ],\n        \"semantic_type\": \"\",\n        \"description\": \"\"\n      }\n    },\n    {\n      \"column\": \"Calificaci\\u00f3n\",\n      \"properties\": {\n        \"dtype\": \"number\",\n        \"std\": 1.403476268581816,\n        \"min\": 1.0,\n        \"max\": 5.0,\n        \"num_unique_values\": 5,\n        \"samples\": [\n          4.0,\n          2.0,\n          3.0\n        ],\n        \"semantic_type\": \"\",\n        \"description\": \"\"\n      }\n    },\n    {\n      \"column\": \"Comentarios\",\n      \"properties\": {\n        \"dtype\": \"category\",\n        \"num_unique_values\": 147,\n        \"samples\": [\n          \"Fusce posuere felis sed lacus. Morbi sem mauris, laoreet ut, rhoncus aliquet, pulvinar sed, nisl. Nunc rhoncus dui vel sem.\\n\\nSed sagittis. Nam congue, risus semper porta volutpat, quam pede lobortis ligula, sit amet eleifend pede libero quis orci. Nullam molestie nibh in lectus.\",\n          \"Nulla ut erat id mauris vulputate elementum. Nullam varius. Nulla facilisi.\",\n          \"Cras mi pede, malesuada in, imperdiet et, commodo vulputate, justo. In blandit ultrices enim. Lorem ipsum dolor sit amet, consectetuer adipiscing elit.\\n\\nProin interdum mauris non ligula pellentesque ultrices. Phasellus id sapien in sapien iaculis congue. Vivamus metus arcu, adipiscing molestie, hendrerit at, vulputate vitae, nisl.\\n\\nAenean lectus. Pellentesque eget nunc. Donec quis orci eget orci vehicula condimentum.\"\n        ],\n        \"semantic_type\": \"\",\n        \"description\": \"\"\n      }\n    }\n  ]\n}",
       "type": "dataframe",
       "variable_name": "df"
      },
      "text/html": [
       "\n",
       "  <div id=\"df-64130f94-4ac0-4e9d-a04a-d3f8f52990fa\" class=\"colab-df-container\">\n",
       "    <div>\n",
       "<style scoped>\n",
       "    .dataframe tbody tr th:only-of-type {\n",
       "        vertical-align: middle;\n",
       "    }\n",
       "\n",
       "    .dataframe tbody tr th {\n",
       "        vertical-align: top;\n",
       "    }\n",
       "\n",
       "    .dataframe thead th {\n",
       "        text-align: right;\n",
       "    }\n",
       "</style>\n",
       "<table border=\"1\" class=\"dataframe\">\n",
       "  <thead>\n",
       "    <tr style=\"text-align: right;\">\n",
       "      <th></th>\n",
       "      <th>id</th>\n",
       "      <th>Empresa</th>\n",
       "      <th>Fecha</th>\n",
       "      <th>Calificación</th>\n",
       "      <th>Comentarios</th>\n",
       "    </tr>\n",
       "  </thead>\n",
       "  <tbody>\n",
       "    <tr>\n",
       "      <th>0</th>\n",
       "      <td>1</td>\n",
       "      <td>Mitchell Group</td>\n",
       "      <td>11/12/2024</td>\n",
       "      <td>1.0</td>\n",
       "      <td>Integer ac leo. Pellentesque ultrices mattis o...</td>\n",
       "    </tr>\n",
       "    <tr>\n",
       "      <th>1</th>\n",
       "      <td>2</td>\n",
       "      <td>Kuhn-Fay</td>\n",
       "      <td>25/01/2024</td>\n",
       "      <td>4.0</td>\n",
       "      <td>Vestibulum ac est lacinia nisi venenatis trist...</td>\n",
       "    </tr>\n",
       "    <tr>\n",
       "      <th>2</th>\n",
       "      <td>3</td>\n",
       "      <td>Moen-Blick</td>\n",
       "      <td>11/11/2024</td>\n",
       "      <td>3.0</td>\n",
       "      <td>Aliquam quis turpis eget elit sodales sceleris...</td>\n",
       "    </tr>\n",
       "    <tr>\n",
       "      <th>3</th>\n",
       "      <td>4</td>\n",
       "      <td>McDermott Inc</td>\n",
       "      <td>01/12/2024</td>\n",
       "      <td>1.0</td>\n",
       "      <td>NaN</td>\n",
       "    </tr>\n",
       "    <tr>\n",
       "      <th>4</th>\n",
       "      <td>5</td>\n",
       "      <td>Keebler Inc</td>\n",
       "      <td>12/01/2024</td>\n",
       "      <td>4.0</td>\n",
       "      <td>Integer ac leo. Pellentesque ultrices mattis o...</td>\n",
       "    </tr>\n",
       "  </tbody>\n",
       "</table>\n",
       "</div>\n",
       "    <div class=\"colab-df-buttons\">\n",
       "\n",
       "  <div class=\"colab-df-container\">\n",
       "    <button class=\"colab-df-convert\" onclick=\"convertToInteractive('df-64130f94-4ac0-4e9d-a04a-d3f8f52990fa')\"\n",
       "            title=\"Convert this dataframe to an interactive table.\"\n",
       "            style=\"display:none;\">\n",
       "\n",
       "  <svg xmlns=\"http://www.w3.org/2000/svg\" height=\"24px\" viewBox=\"0 -960 960 960\">\n",
       "    <path d=\"M120-120v-720h720v720H120Zm60-500h600v-160H180v160Zm220 220h160v-160H400v160Zm0 220h160v-160H400v160ZM180-400h160v-160H180v160Zm440 0h160v-160H620v160ZM180-180h160v-160H180v160Zm440 0h160v-160H620v160Z\"/>\n",
       "  </svg>\n",
       "    </button>\n",
       "\n",
       "  <style>\n",
       "    .colab-df-container {\n",
       "      display:flex;\n",
       "      gap: 12px;\n",
       "    }\n",
       "\n",
       "    .colab-df-convert {\n",
       "      background-color: #E8F0FE;\n",
       "      border: none;\n",
       "      border-radius: 50%;\n",
       "      cursor: pointer;\n",
       "      display: none;\n",
       "      fill: #1967D2;\n",
       "      height: 32px;\n",
       "      padding: 0 0 0 0;\n",
       "      width: 32px;\n",
       "    }\n",
       "\n",
       "    .colab-df-convert:hover {\n",
       "      background-color: #E2EBFA;\n",
       "      box-shadow: 0px 1px 2px rgba(60, 64, 67, 0.3), 0px 1px 3px 1px rgba(60, 64, 67, 0.15);\n",
       "      fill: #174EA6;\n",
       "    }\n",
       "\n",
       "    .colab-df-buttons div {\n",
       "      margin-bottom: 4px;\n",
       "    }\n",
       "\n",
       "    [theme=dark] .colab-df-convert {\n",
       "      background-color: #3B4455;\n",
       "      fill: #D2E3FC;\n",
       "    }\n",
       "\n",
       "    [theme=dark] .colab-df-convert:hover {\n",
       "      background-color: #434B5C;\n",
       "      box-shadow: 0px 1px 3px 1px rgba(0, 0, 0, 0.15);\n",
       "      filter: drop-shadow(0px 1px 2px rgba(0, 0, 0, 0.3));\n",
       "      fill: #FFFFFF;\n",
       "    }\n",
       "  </style>\n",
       "\n",
       "    <script>\n",
       "      const buttonEl =\n",
       "        document.querySelector('#df-64130f94-4ac0-4e9d-a04a-d3f8f52990fa button.colab-df-convert');\n",
       "      buttonEl.style.display =\n",
       "        google.colab.kernel.accessAllowed ? 'block' : 'none';\n",
       "\n",
       "      async function convertToInteractive(key) {\n",
       "        const element = document.querySelector('#df-64130f94-4ac0-4e9d-a04a-d3f8f52990fa');\n",
       "        const dataTable =\n",
       "          await google.colab.kernel.invokeFunction('convertToInteractive',\n",
       "                                                    [key], {});\n",
       "        if (!dataTable) return;\n",
       "\n",
       "        const docLinkHtml = 'Like what you see? Visit the ' +\n",
       "          '<a target=\"_blank\" href=https://colab.research.google.com/notebooks/data_table.ipynb>data table notebook</a>'\n",
       "          + ' to learn more about interactive tables.';\n",
       "        element.innerHTML = '';\n",
       "        dataTable['output_type'] = 'display_data';\n",
       "        await google.colab.output.renderOutput(dataTable, element);\n",
       "        const docLink = document.createElement('div');\n",
       "        docLink.innerHTML = docLinkHtml;\n",
       "        element.appendChild(docLink);\n",
       "      }\n",
       "    </script>\n",
       "  </div>\n",
       "\n",
       "\n",
       "    <div id=\"df-eac141ca-246e-4213-99ba-7815bf17134d\">\n",
       "      <button class=\"colab-df-quickchart\" onclick=\"quickchart('df-eac141ca-246e-4213-99ba-7815bf17134d')\"\n",
       "                title=\"Suggest charts\"\n",
       "                style=\"display:none;\">\n",
       "\n",
       "<svg xmlns=\"http://www.w3.org/2000/svg\" height=\"24px\"viewBox=\"0 0 24 24\"\n",
       "     width=\"24px\">\n",
       "    <g>\n",
       "        <path d=\"M19 3H5c-1.1 0-2 .9-2 2v14c0 1.1.9 2 2 2h14c1.1 0 2-.9 2-2V5c0-1.1-.9-2-2-2zM9 17H7v-7h2v7zm4 0h-2V7h2v10zm4 0h-2v-4h2v4z\"/>\n",
       "    </g>\n",
       "</svg>\n",
       "      </button>\n",
       "\n",
       "<style>\n",
       "  .colab-df-quickchart {\n",
       "      --bg-color: #E8F0FE;\n",
       "      --fill-color: #1967D2;\n",
       "      --hover-bg-color: #E2EBFA;\n",
       "      --hover-fill-color: #174EA6;\n",
       "      --disabled-fill-color: #AAA;\n",
       "      --disabled-bg-color: #DDD;\n",
       "  }\n",
       "\n",
       "  [theme=dark] .colab-df-quickchart {\n",
       "      --bg-color: #3B4455;\n",
       "      --fill-color: #D2E3FC;\n",
       "      --hover-bg-color: #434B5C;\n",
       "      --hover-fill-color: #FFFFFF;\n",
       "      --disabled-bg-color: #3B4455;\n",
       "      --disabled-fill-color: #666;\n",
       "  }\n",
       "\n",
       "  .colab-df-quickchart {\n",
       "    background-color: var(--bg-color);\n",
       "    border: none;\n",
       "    border-radius: 50%;\n",
       "    cursor: pointer;\n",
       "    display: none;\n",
       "    fill: var(--fill-color);\n",
       "    height: 32px;\n",
       "    padding: 0;\n",
       "    width: 32px;\n",
       "  }\n",
       "\n",
       "  .colab-df-quickchart:hover {\n",
       "    background-color: var(--hover-bg-color);\n",
       "    box-shadow: 0 1px 2px rgba(60, 64, 67, 0.3), 0 1px 3px 1px rgba(60, 64, 67, 0.15);\n",
       "    fill: var(--button-hover-fill-color);\n",
       "  }\n",
       "\n",
       "  .colab-df-quickchart-complete:disabled,\n",
       "  .colab-df-quickchart-complete:disabled:hover {\n",
       "    background-color: var(--disabled-bg-color);\n",
       "    fill: var(--disabled-fill-color);\n",
       "    box-shadow: none;\n",
       "  }\n",
       "\n",
       "  .colab-df-spinner {\n",
       "    border: 2px solid var(--fill-color);\n",
       "    border-color: transparent;\n",
       "    border-bottom-color: var(--fill-color);\n",
       "    animation:\n",
       "      spin 1s steps(1) infinite;\n",
       "  }\n",
       "\n",
       "  @keyframes spin {\n",
       "    0% {\n",
       "      border-color: transparent;\n",
       "      border-bottom-color: var(--fill-color);\n",
       "      border-left-color: var(--fill-color);\n",
       "    }\n",
       "    20% {\n",
       "      border-color: transparent;\n",
       "      border-left-color: var(--fill-color);\n",
       "      border-top-color: var(--fill-color);\n",
       "    }\n",
       "    30% {\n",
       "      border-color: transparent;\n",
       "      border-left-color: var(--fill-color);\n",
       "      border-top-color: var(--fill-color);\n",
       "      border-right-color: var(--fill-color);\n",
       "    }\n",
       "    40% {\n",
       "      border-color: transparent;\n",
       "      border-right-color: var(--fill-color);\n",
       "      border-top-color: var(--fill-color);\n",
       "    }\n",
       "    60% {\n",
       "      border-color: transparent;\n",
       "      border-right-color: var(--fill-color);\n",
       "    }\n",
       "    80% {\n",
       "      border-color: transparent;\n",
       "      border-right-color: var(--fill-color);\n",
       "      border-bottom-color: var(--fill-color);\n",
       "    }\n",
       "    90% {\n",
       "      border-color: transparent;\n",
       "      border-bottom-color: var(--fill-color);\n",
       "    }\n",
       "  }\n",
       "</style>\n",
       "\n",
       "      <script>\n",
       "        async function quickchart(key) {\n",
       "          const quickchartButtonEl =\n",
       "            document.querySelector('#' + key + ' button');\n",
       "          quickchartButtonEl.disabled = true;  // To prevent multiple clicks.\n",
       "          quickchartButtonEl.classList.add('colab-df-spinner');\n",
       "          try {\n",
       "            const charts = await google.colab.kernel.invokeFunction(\n",
       "                'suggestCharts', [key], {});\n",
       "          } catch (error) {\n",
       "            console.error('Error during call to suggestCharts:', error);\n",
       "          }\n",
       "          quickchartButtonEl.classList.remove('colab-df-spinner');\n",
       "          quickchartButtonEl.classList.add('colab-df-quickchart-complete');\n",
       "        }\n",
       "        (() => {\n",
       "          let quickchartButtonEl =\n",
       "            document.querySelector('#df-eac141ca-246e-4213-99ba-7815bf17134d button');\n",
       "          quickchartButtonEl.style.display =\n",
       "            google.colab.kernel.accessAllowed ? 'block' : 'none';\n",
       "        })();\n",
       "      </script>\n",
       "    </div>\n",
       "\n",
       "    </div>\n",
       "  </div>\n"
      ],
      "text/plain": [
       "   id         Empresa       Fecha  Calificación  \\\n",
       "0   1  Mitchell Group  11/12/2024           1.0   \n",
       "1   2        Kuhn-Fay  25/01/2024           4.0   \n",
       "2   3      Moen-Blick  11/11/2024           3.0   \n",
       "3   4   McDermott Inc  01/12/2024           1.0   \n",
       "4   5     Keebler Inc  12/01/2024           4.0   \n",
       "\n",
       "                                         Comentarios  \n",
       "0  Integer ac leo. Pellentesque ultrices mattis o...  \n",
       "1  Vestibulum ac est lacinia nisi venenatis trist...  \n",
       "2  Aliquam quis turpis eget elit sodales sceleris...  \n",
       "3                                                NaN  \n",
       "4  Integer ac leo. Pellentesque ultrices mattis o...  "
      ]
     },
     "execution_count": 152,
     "metadata": {},
     "output_type": "execute_result"
    }
   ],
   "source": [
    "import pandas as pd\n",
    "\n",
    "# Cargar datos\n",
    "df = pd.read_csv('satis_clientes.csv')\n",
    "df.head()"
   ]
  },
  {
   "cell_type": "code",
   "execution_count": 155,
   "metadata": {
    "colab": {
     "base_uri": "https://localhost:8080/"
    },
    "executionInfo": {
     "elapsed": 22,
     "status": "ok",
     "timestamp": 1758143167303,
     "user": {
      "displayName": "Juan Pablo Rigotti",
      "userId": "00152857968777329382"
     },
     "user_tz": 180
    },
    "id": "B9hVzXJgiezI",
    "outputId": "8e5c5483-83eb-4d3c-fb30-91a309348801"
   },
   "outputs": [
    {
     "name": "stdout",
     "output_type": "stream",
     "text": [
      "<class 'pandas.core.frame.DataFrame'>\n",
      "RangeIndex: 1128 entries, 0 to 1127\n",
      "Data columns (total 5 columns):\n",
      " #   Column        Non-Null Count  Dtype  \n",
      "---  ------        --------------  -----  \n",
      " 0   id            1128 non-null   int32  \n",
      " 1   Empresa       1128 non-null   object \n",
      " 2   Fecha         1128 non-null   object \n",
      " 3   Calificación  904 non-null    float64\n",
      " 4   Comentarios   818 non-null    object \n",
      "dtypes: float64(1), int32(1), object(3)\n",
      "memory usage: 39.8+ KB\n"
     ]
    }
   ],
   "source": [
    "df.info()"
   ]
  },
  {
   "cell_type": "markdown",
   "metadata": {
    "id": "Z2i5W-3kMVYO"
   },
   "source": [
    "Si bien lo vamos a ver más adelante, asi podemos cambiar el tipo de dato de una columna\n",
    "* [Pandas data type](https://numpy.org/doc/2.3/user/basics.types.html#)\n",
    "* [Caracter data type](https://numpy.org/doc/2.3/reference/arrays.dtypes.html#arrays-dtypes-constructing)"
   ]
  },
  {
   "cell_type": "code",
   "execution_count": 154,
   "metadata": {
    "executionInfo": {
     "elapsed": 39,
     "status": "ok",
     "timestamp": 1758143155078,
     "user": {
      "displayName": "Juan Pablo Rigotti",
      "userId": "00152857968777329382"
     },
     "user_tz": 180
    },
    "id": "xI-MDeKC_DXv"
   },
   "outputs": [],
   "source": [
    "df[\"id\"] = df[\"id\"].astype(\"i\")"
   ]
  },
  {
   "cell_type": "code",
   "execution_count": null,
   "metadata": {
    "id": "sBNnQKkwyAB8"
   },
   "outputs": [],
   "source": [
    "df[\"Empresa\"] = df[\"Empresa\"].astype(\"string\")"
   ]
  },
  {
   "cell_type": "markdown",
   "metadata": {
    "id": "JQ-CUabl_7Jj"
   },
   "source": [
    "Usamos el método isnull que retorna un dataframe de iguales dimensiones, con True donde la celda es NaN y False en caso contrario"
   ]
  },
  {
   "cell_type": "code",
   "execution_count": null,
   "metadata": {
    "id": "W_0_dHEMrepW"
   },
   "outputs": [],
   "source": [
    "df.info()"
   ]
  },
  {
   "cell_type": "code",
   "execution_count": null,
   "metadata": {
    "id": "oEmaM9y7ftrb"
   },
   "outputs": [],
   "source": [
    "df.isnull()"
   ]
  },
  {
   "cell_type": "code",
   "execution_count": null,
   "metadata": {
    "id": "r8rLvWYirlHv"
   },
   "outputs": [],
   "source": [
    "df.isnull().sum()"
   ]
  },
  {
   "cell_type": "code",
   "execution_count": null,
   "metadata": {
    "id": "VeBYWFRcr_i0"
   },
   "outputs": [],
   "source": [
    "# Asi listamos los valores con alguna celda nula\n",
    "df[df.isnull().any(axis=1)]"
   ]
  },
  {
   "cell_type": "markdown",
   "metadata": {
    "id": "HUw9s4PNlhQu"
   },
   "source": [
    "# Datos duplicados"
   ]
  },
  {
   "cell_type": "code",
   "execution_count": null,
   "metadata": {
    "id": "Svc72_UNNG2a"
   },
   "outputs": [],
   "source": [
    "# Cargar datos\n",
    "df = pd.read_csv('satis_clientes.csv')\n",
    "df.head()"
   ]
  },
  {
   "cell_type": "code",
   "execution_count": null,
   "metadata": {
    "id": "LlEJRHVQ3CE9"
   },
   "outputs": [],
   "source": [
    "# Identificar duplicados\n",
    "duplicados = df.duplicated()\n",
    "cantidad_duplicados = duplicados.sum()\n",
    "print(f'Duplicados:\\n{duplicados}')\n",
    "print(f'Cantidad de duplicados: {cantidad_duplicados}')"
   ]
  },
  {
   "cell_type": "code",
   "execution_count": null,
   "metadata": {
    "id": "WEpVL75o3Hh-"
   },
   "outputs": [],
   "source": [
    "# Crear subconjunto de duplicados\n",
    "registros_duplicados = df[duplicados]\n",
    "# Mostrar en consola\n",
    "\n",
    "print(f'\\nCantidad total de registros: {len(df)}')\n",
    "print(f'Cantidad de registros duplicados: {cantidad_duplicados}')\n",
    "print(registros_duplicados.head())"
   ]
  },
  {
   "cell_type": "code",
   "execution_count": null,
   "metadata": {
    "id": "uh4At1nY4OaI"
   },
   "outputs": [],
   "source": [
    "registros_duplicados.dtypes"
   ]
  },
  {
   "cell_type": "code",
   "execution_count": null,
   "metadata": {
    "id": "wWg_yt0e3uEK"
   },
   "outputs": [],
   "source": [
    "duplicado_10 = df[\"id\"].duplicated()\n",
    "print(duplicado_10)"
   ]
  },
  {
   "cell_type": "markdown",
   "metadata": {
    "id": "vG62vH5P9JpY"
   },
   "source": [
    "# Actividad 2: Exploración y limpieza preliminar con Python.\n",
    "**Contexto**\n",
    "En esta actividad, trabajarás guiado por Luis, nuestro Analista de BI, con una planilla de Google Sheets que registra la temperatura corporal de un grupo de personas durante 10 días. Debes realizar un examen preliminar para identificar datos problemáticos, como duplicados y valores nulos. Esta práctica te ayudará a dar los pasos previos a la limpieza de datos, un componente vital en cualquier proyecto de análisis.\n",
    "\n",
    "**Objetivos**\n",
    "* Identificar los datos duplicados y nulos en el conjunto.\n",
    "* Analizar el mejor tratamiento para los datos anómalos y nulos.\n",
    "\n",
    "**Ejercicio práctico**\n",
    "1. Crear un dataframe a partir de la planilla de cálculo y efectuar un examen preliminar.\n",
    "2. Identificar los datos:\n",
    "\n",
    "  a. duplicados\n",
    "\n",
    "  b. nulos\n",
    "3. Analizá cuál sería el mejor tratamiento para los datos anómalos (fuera de rango) y nulos en los siguientes contextos **(YA RESUELTO)**:\n",
    "\n",
    "<center><img src=\"https://drive.google.com/uc?id=1CaYiA8Sc5Z1KPEA6NZ2DYWuCzaihZ6BQ\"></center>\n",
    "\n",
    "**Sets de datos**\n",
    "* [Actividad 2](https://docs.google.com/spreadsheets/d/1-rUn4TUwpGrLE1DH8moeiR5eSyeF-jOOTpfhRgZxVIQ/edit?usp=sharing)\n",
    "\n",
    "**¿Por qué importa esto en SynthData?**\n",
    "\n",
    "La exploración y limpieza de datos son pasos esenciales para garantizar que cualquier análisis posterior sea robusto y significativo. En SynthData, nos enfrentamos a datos en diferentes formatos, y es crucial asegurarnos de que estén listos para ser analizados. Esta actividad te enseñará a detectar problemas comunes en conjuntos de datos, como duplicados y valores nulos, y cómo abordarlos adecuadamente.\n",
    "\n"
   ]
  },
  {
   "cell_type": "markdown",
   "metadata": {
    "id": "86IAa-35_7_k"
   },
   "source": [
    "### 1) Crear el dataframe"
   ]
  },
  {
   "cell_type": "code",
   "execution_count": null,
   "metadata": {
    "id": "DOjVohTxABdn"
   },
   "outputs": [],
   "source": [
    "# importar la librería\n",
    "# crear el dataframe\n",
    "# probar que se haya cargado el dataframe\n",
    "import pandas as pd\n",
    "df = pd.read_csv('https://docs.google.com/spreadsheets/d/1-rUn4TUwpGrLE1DH8moeiR5eSyeF-jOOTpfhRgZxVIQ/gviz/tq?tqx=out:csv&sheet=')\n",
    "df.head()"
   ]
  },
  {
   "cell_type": "code",
   "execution_count": null,
   "metadata": {
    "cellView": "form",
    "id": "UUZhNn9FPfbZ"
   },
   "outputs": [],
   "source": [
    "from google.colab import sheets\n",
    "sheet = sheets.InteractiveSheet(df=df)"
   ]
  },
  {
   "cell_type": "markdown",
   "metadata": {
    "id": "bwyEJs8THW4X"
   },
   "source": [
    "###1.2) Exploración preliminar\n",
    "Los métodos de exploración son esenciales para obtener una comprensión inicial de los datos y su estructura.\n",
    "Algunos de los métodos más utilizados son:\n",
    "* `df.head(n)`: muestra las primeras n filas del dataframe (por defecto n = 5).\n",
    "* `df.tail(n)`: muestra las últimas n filas del dataframe.\n",
    "* `df.info()`: proporciona un resumen del dataframe.\n",
    "* `df.describe()`: genera estadísticas que veremos más adelante.\n",
    "* `df.shape`: devuelve una tupla que contiene el número de filas y columnas del dataframe.\n",
    "* `df.columns`: devuelve una lista de los nombre de las columnas del dataframe.\n",
    "* `df.index`: devuelve los índices del dataframe.\n",
    "* `df.dtypes`: devuelve los tipos de datos de cada columna.\n",
    "* `df.isnull()`: devuelve un dataframe booleano que indica si hay valores nulos en el dataframe. Tiene una función inversa: `df.notnull()`.\n",
    "* `df.value_counts()`: cuenta las ocurrencias de los valores de una serie.\n",
    "* `df.unique()`: devuelve los valores únicos de una columna.\n",
    "* `df.sample(n)`: devuelve una muestra aleatoria de n filas"
   ]
  },
  {
   "cell_type": "code",
   "execution_count": null,
   "metadata": {
    "id": "_0bgamCfHee5"
   },
   "outputs": [],
   "source": [
    "# Muestra de los 4 primeros registros\n",
    "df.head(4)"
   ]
  },
  {
   "cell_type": "code",
   "execution_count": null,
   "metadata": {
    "id": "JXIm_-EJp80i"
   },
   "outputs": [],
   "source": [
    "# Muestra de los últimos 6 registros\n",
    "df.tail(6)"
   ]
  },
  {
   "cell_type": "code",
   "execution_count": null,
   "metadata": {
    "id": "YgFnORJnp_Dz"
   },
   "outputs": [],
   "source": [
    "# Muestra los nombres de las columnas, cuántos valores hay en cada una, y qué tipo de dato contiene\n",
    "df.info()"
   ]
  },
  {
   "cell_type": "code",
   "execution_count": null,
   "metadata": {
    "id": "CEbg_nzYIfTM"
   },
   "outputs": [],
   "source": [
    "print(pd.Series([1, np.nan, 7]).dtypes)"
   ]
  },
  {
   "cell_type": "code",
   "execution_count": null,
   "metadata": {
    "id": "WlVUpaaGqBN8"
   },
   "outputs": [],
   "source": [
    "# Muestra el resumen estadístico de las columnas. Conteo, promedio, mínimo y máximo...\n",
    "df.describe()"
   ]
  },
  {
   "cell_type": "code",
   "execution_count": null,
   "metadata": {
    "id": "Uy9l4VUMqDdV"
   },
   "outputs": [],
   "source": [
    "# Cantidad de registros y columnas\n",
    "df.shape"
   ]
  },
  {
   "cell_type": "code",
   "execution_count": null,
   "metadata": {
    "id": "f9a0Ay2iqESu"
   },
   "outputs": [],
   "source": [
    "# Nombres de las columnas\n",
    "df.columns"
   ]
  },
  {
   "cell_type": "code",
   "execution_count": null,
   "metadata": {
    "id": "kMYUx3VZqHvo"
   },
   "outputs": [],
   "source": [
    "# Rango de los índices\n",
    "df.index"
   ]
  },
  {
   "cell_type": "code",
   "execution_count": null,
   "metadata": {
    "id": "cH4mxz1kqJbo"
   },
   "outputs": [],
   "source": [
    "# Tipo de dato que hay en cada columna\n",
    "df.dtypes"
   ]
  },
  {
   "cell_type": "code",
   "execution_count": null,
   "metadata": {
    "id": "x2CZTmAuqLHC"
   },
   "outputs": [],
   "source": [
    "# Un dataframe que muestra True donde falta el dato\n",
    "df.isnull()"
   ]
  },
  {
   "cell_type": "code",
   "execution_count": null,
   "metadata": {
    "id": "Z6Hm1FEKqMZq"
   },
   "outputs": [],
   "source": [
    "# Muestra cuántas veces se repiten los valores en cada columna\n",
    "df['d1'].value_counts()"
   ]
  },
  {
   "cell_type": "code",
   "execution_count": null,
   "metadata": {
    "id": "z896T57KMtki"
   },
   "outputs": [],
   "source": [
    "import matplotlib.pyplot as plt\n",
    "df['d2'].hist(bins=20)\n",
    "plt.show()"
   ]
  },
  {
   "cell_type": "code",
   "execution_count": null,
   "metadata": {
    "id": "IbpOi63CqNuL"
   },
   "outputs": [],
   "source": [
    "# Muestra los valores de una columna, sin repetidos\n",
    "df['d1'].unique()"
   ]
  },
  {
   "cell_type": "code",
   "execution_count": null,
   "metadata": {
    "id": "Hf0-LW7PqPN7"
   },
   "outputs": [],
   "source": [
    "# Muestra aleatoria de 10 registros\n",
    "df.sample(10)"
   ]
  },
  {
   "cell_type": "markdown",
   "metadata": {
    "id": "6sZmSKrPslH6"
   },
   "source": [
    "❓ ¿Podrías decir si hay valores nulos en este dataframe?\n",
    "\n",
    "✨ En un primer análisis, ya podemos decir que hay valores nulos:\n",
    "tanto `shape` como `index` indican que hay 3018 registros, pero `info()` nos da la pauta de que la única columna que no tiene valores nulos es la de nombres."
   ]
  },
  {
   "cell_type": "markdown",
   "metadata": {
    "id": "9me7CgPtHfLB"
   },
   "source": [
    "###2) Ubicar datos duplicados y nulos"
   ]
  },
  {
   "cell_type": "markdown",
   "metadata": {
    "id": "C5Kyy6S64-R_"
   },
   "source": [
    "#### Duplicados\n",
    "Para trabajar con datos duplicados, el método principal es `duplicated()` que devuelve un valor booleano por cada fila, indicando si es duplicado o no. Devuelve `True`, si una fila es duplicado de alguna anterior.\n",
    "* Con el parámetro `subset`, permite buscar duplicados en columnas específicas.\n",
    "* Combinada con otras funciones, podemos obtener más resultados, por ejemplo, `df.duplicated().sum()` cuenta  la cantidad de filas duplicadas\n"
   ]
  },
  {
   "cell_type": "code",
   "execution_count": null,
   "metadata": {
    "id": "Tt0AeU6ZnU87"
   },
   "outputs": [],
   "source": [
    "# Saber cuáles filas son duplicadas\n",
    "df.duplicated()"
   ]
  },
  {
   "cell_type": "code",
   "execution_count": 111,
   "metadata": {
    "colab": {
     "base_uri": "https://localhost:8080/"
    },
    "executionInfo": {
     "elapsed": 11,
     "status": "ok",
     "timestamp": 1758140730881,
     "user": {
      "displayName": "Juan Pablo Rigotti",
      "userId": "00152857968777329382"
     },
     "user_tz": 180
    },
    "id": "XuIyuVbBVOit",
    "outputId": "1b302d23-87df-41f4-889e-35ac205a42f5"
   },
   "outputs": [
    {
     "name": "stdout",
     "output_type": "stream",
     "text": [
      "18\n"
     ]
    }
   ],
   "source": [
    "# Contar la cantidad de filas duplicadas\n",
    "print(df.duplicated().sum())"
   ]
  },
  {
   "cell_type": "code",
   "execution_count": null,
   "metadata": {
    "id": "kW9ur9x1VXXl"
   },
   "outputs": [],
   "source": [
    "# Visualizar las filas duplicadas\n",
    "df[df.duplicated()]"
   ]
  },
  {
   "cell_type": "code",
   "execution_count": null,
   "metadata": {
    "id": "xOIuukXlVgDr"
   },
   "outputs": [],
   "source": [
    "# Para un paciente dado, visualizar esas filas duplicadas\n",
    "df[df[\"nombre\"] == \"Dagny Burree\"]"
   ]
  },
  {
   "cell_type": "markdown",
   "metadata": {
    "id": "fdgxloY7XQPN"
   },
   "source": [
    "Como poder visualizar todos los registros duplicados?\n",
    "`df.duplicated(keep=???)`\n",
    "* keep='first' (default) → solo las repeticiones después de la primera son True.\n",
    "* keep='last' → solo las repeticiones antes de la última son True.\n",
    "* keep=False → todas las ocurrencias de un duplicado son True."
   ]
  },
  {
   "cell_type": "code",
   "execution_count": null,
   "metadata": {
    "id": "YPzySSd0V_zc"
   },
   "outputs": [],
   "source": [
    "# Asi puedo visualizar los registros\n",
    "df[df.duplicated(keep=False)]"
   ]
  },
  {
   "cell_type": "code",
   "execution_count": null,
   "metadata": {
    "id": "rdjHE6CfWPFD"
   },
   "outputs": [],
   "source": [
    "# Se puede mejorar aún ordenando los datos\n",
    "df[df.duplicated(keep=False)].sort_values(by=\"nombre\")"
   ]
  },
  {
   "cell_type": "code",
   "execution_count": null,
   "metadata": {
    "id": "u93-T-K79bt1"
   },
   "outputs": [],
   "source": [
    "# Saber si las columnas d4, d5 y d6 tienen valos duplicados\n",
    "df.duplicated(subset=[\"d4\",\"d5\",\"d6\"])"
   ]
  },
  {
   "cell_type": "code",
   "execution_count": null,
   "metadata": {
    "id": "0WvQKrwIYNkc"
   },
   "outputs": [],
   "source": [
    "df[df.duplicated(subset=[\"d4\",\"d5\",\"d6\"], keep=\"last\")]"
   ]
  },
  {
   "cell_type": "markdown",
   "metadata": {
    "id": "tA7LT4aKZI0G"
   },
   "source": []
  },
  {
   "cell_type": "code",
   "execution_count": null,
   "metadata": {
    "id": "FN-TDRwLZSaj"
   },
   "outputs": [],
   "source": [
    "df.value_counts()"
   ]
  },
  {
   "cell_type": "markdown",
   "metadata": {
    "id": "e3-5TciJ5BFw"
   },
   "source": [
    "#### Nulos\n",
    "El método isnull() nos ofrece un dataframe con valores booleanos. Esta función puede combinarse con otras, para obtener diferentes resultados:\n",
    "\n",
    "* Gracias al tipado dinámico de python, los valores booleanos se traducen automáticamente a 1 y 0, en caso de que alguna función lo requiera. Entonces, podemos utilizar la función sum() para obtener la cantidad de valores nulos en cada columna.\n",
    "* any() se puede utilizar para verificar si hay valores nulos en filas (axis = 1) o columnas."
   ]
  },
  {
   "cell_type": "code",
   "execution_count": null,
   "metadata": {
    "id": "Ysrv-x-GZ8f5"
   },
   "outputs": [],
   "source": [
    "# Retorna un boolean para cada celda, True si es Null/NaN, False caso contrario\n",
    "df.isnull()"
   ]
  },
  {
   "cell_type": "code",
   "execution_count": null,
   "metadata": {
    "id": "n8vmwgwq5Dr6"
   },
   "outputs": [],
   "source": [
    "# Cantidad de valores nulos\n",
    "df.isnull().sum()"
   ]
  },
  {
   "cell_type": "code",
   "execution_count": null,
   "metadata": {
    "id": "RftKgveJ6QYh"
   },
   "outputs": [],
   "source": [
    "# Nulos\n",
    "df.isnull().any() # en columnas\n",
    "df.isnull().any(axis = 1) # en filas (podremos saber qué registros tienen completos sus datos)"
   ]
  },
  {
   "cell_type": "code",
   "execution_count": 142,
   "metadata": {
    "colab": {
     "base_uri": "https://localhost:8080/",
     "height": 423
    },
    "executionInfo": {
     "elapsed": 75,
     "status": "ok",
     "timestamp": 1758142386694,
     "user": {
      "displayName": "Juan Pablo Rigotti",
      "userId": "00152857968777329382"
     },
     "user_tz": 180
    },
    "id": "00oKwlHpc1CU",
    "outputId": "7e565a4c-6e69-413c-aad4-d5fd2f8bcc1b"
   },
   "outputs": [
    {
     "data": {
      "application/vnd.google.colaboratory.intrinsic+json": {
       "summary": "{\n  \"name\": \"df[df\",\n  \"rows\": 1368,\n  \"fields\": [\n    {\n      \"column\": \"nombre\",\n      \"properties\": {\n        \"dtype\": \"string\",\n        \"num_unique_values\": 1360,\n        \"samples\": [\n          \"Mella Scough\",\n          \"Carley MacAscaidh\",\n          \"Sheena Varley\"\n        ],\n        \"semantic_type\": \"\",\n        \"description\": \"\"\n      }\n    },\n    {\n      \"column\": \"d1\",\n      \"properties\": {\n        \"dtype\": \"number\",\n        \"std\": 0.5823200277230989,\n        \"min\": 36.0,\n        \"max\": 38.0,\n        \"num_unique_values\": 200,\n        \"samples\": [\n          36.14,\n          37.46,\n          36.33\n        ],\n        \"semantic_type\": \"\",\n        \"description\": \"\"\n      }\n    },\n    {\n      \"column\": \"d2\",\n      \"properties\": {\n        \"dtype\": \"number\",\n        \"std\": 0.5804436447411567,\n        \"min\": 36.0,\n        \"max\": 38.0,\n        \"num_unique_values\": 201,\n        \"samples\": [\n          36.8,\n          37.11,\n          37.18\n        ],\n        \"semantic_type\": \"\",\n        \"description\": \"\"\n      }\n    },\n    {\n      \"column\": \"d3\",\n      \"properties\": {\n        \"dtype\": \"number\",\n        \"std\": 0.578140125802231,\n        \"min\": 36.0,\n        \"max\": 38.0,\n        \"num_unique_values\": 200,\n        \"samples\": [\n          37.32,\n          36.23,\n          36.82\n        ],\n        \"semantic_type\": \"\",\n        \"description\": \"\"\n      }\n    },\n    {\n      \"column\": \"d4\",\n      \"properties\": {\n        \"dtype\": \"number\",\n        \"std\": 0.5797583247295205,\n        \"min\": 36.01,\n        \"max\": 38.0,\n        \"num_unique_values\": 198,\n        \"samples\": [\n          36.62,\n          37.04,\n          36.83\n        ],\n        \"semantic_type\": \"\",\n        \"description\": \"\"\n      }\n    },\n    {\n      \"column\": \"d5\",\n      \"properties\": {\n        \"dtype\": \"number\",\n        \"std\": 0.5848732453866439,\n        \"min\": 36.0,\n        \"max\": 38.0,\n        \"num_unique_values\": 200,\n        \"samples\": [\n          36.61,\n          36.41,\n          36.28\n        ],\n        \"semantic_type\": \"\",\n        \"description\": \"\"\n      }\n    },\n    {\n      \"column\": \"d6\",\n      \"properties\": {\n        \"dtype\": \"number\",\n        \"std\": 0.582806693088019,\n        \"min\": 36.0,\n        \"max\": 38.0,\n        \"num_unique_values\": 200,\n        \"samples\": [\n          37.62,\n          37.79,\n          36.75\n        ],\n        \"semantic_type\": \"\",\n        \"description\": \"\"\n      }\n    },\n    {\n      \"column\": \"d7\",\n      \"properties\": {\n        \"dtype\": \"number\",\n        \"std\": 0.582732709654604,\n        \"min\": 36.0,\n        \"max\": 38.0,\n        \"num_unique_values\": 201,\n        \"samples\": [\n          36.78,\n          37.69,\n          36.49\n        ],\n        \"semantic_type\": \"\",\n        \"description\": \"\"\n      }\n    },\n    {\n      \"column\": \"d8\",\n      \"properties\": {\n        \"dtype\": \"number\",\n        \"std\": 0.5684330202921066,\n        \"min\": 36.0,\n        \"max\": 38.0,\n        \"num_unique_values\": 200,\n        \"samples\": [\n          36.34,\n          36.7,\n          36.62\n        ],\n        \"semantic_type\": \"\",\n        \"description\": \"\"\n      }\n    },\n    {\n      \"column\": \"d9\",\n      \"properties\": {\n        \"dtype\": \"number\",\n        \"std\": 0.5753205037245795,\n        \"min\": 36.0,\n        \"max\": 38.0,\n        \"num_unique_values\": 201,\n        \"samples\": [\n          36.41,\n          37.92,\n          36.24\n        ],\n        \"semantic_type\": \"\",\n        \"description\": \"\"\n      }\n    },\n    {\n      \"column\": \"d10\",\n      \"properties\": {\n        \"dtype\": \"number\",\n        \"std\": 0.5775543507976406,\n        \"min\": 36.0,\n        \"max\": 38.0,\n        \"num_unique_values\": 200,\n        \"samples\": [\n          37.47,\n          36.38,\n          36.83\n        ],\n        \"semantic_type\": \"\",\n        \"description\": \"\"\n      }\n    }\n  ]\n}",
       "type": "dataframe"
      },
      "text/html": [
       "\n",
       "  <div id=\"df-956ffb2c-4c1c-4376-acb2-1a6ff4c01b58\" class=\"colab-df-container\">\n",
       "    <div>\n",
       "<style scoped>\n",
       "    .dataframe tbody tr th:only-of-type {\n",
       "        vertical-align: middle;\n",
       "    }\n",
       "\n",
       "    .dataframe tbody tr th {\n",
       "        vertical-align: top;\n",
       "    }\n",
       "\n",
       "    .dataframe thead th {\n",
       "        text-align: right;\n",
       "    }\n",
       "</style>\n",
       "<table border=\"1\" class=\"dataframe\">\n",
       "  <thead>\n",
       "    <tr style=\"text-align: right;\">\n",
       "      <th></th>\n",
       "      <th>nombre</th>\n",
       "      <th>d1</th>\n",
       "      <th>d2</th>\n",
       "      <th>d3</th>\n",
       "      <th>d4</th>\n",
       "      <th>d5</th>\n",
       "      <th>d6</th>\n",
       "      <th>d7</th>\n",
       "      <th>d8</th>\n",
       "      <th>d9</th>\n",
       "      <th>d10</th>\n",
       "    </tr>\n",
       "  </thead>\n",
       "  <tbody>\n",
       "    <tr>\n",
       "      <th>2</th>\n",
       "      <td>Almeta Meredith</td>\n",
       "      <td>36.89</td>\n",
       "      <td>37.74</td>\n",
       "      <td>36.16</td>\n",
       "      <td>36.59</td>\n",
       "      <td>37.93</td>\n",
       "      <td>37.12</td>\n",
       "      <td>36.34</td>\n",
       "      <td>36.04</td>\n",
       "      <td>NaN</td>\n",
       "      <td>37.05</td>\n",
       "    </tr>\n",
       "    <tr>\n",
       "      <th>3</th>\n",
       "      <td>Massimiliano Waller</td>\n",
       "      <td>36.50</td>\n",
       "      <td>37.91</td>\n",
       "      <td>NaN</td>\n",
       "      <td>36.16</td>\n",
       "      <td>37.41</td>\n",
       "      <td>37.73</td>\n",
       "      <td>36.57</td>\n",
       "      <td>37.94</td>\n",
       "      <td>36.03</td>\n",
       "      <td>36.80</td>\n",
       "    </tr>\n",
       "    <tr>\n",
       "      <th>5</th>\n",
       "      <td>Haleigh Rumgay</td>\n",
       "      <td>36.47</td>\n",
       "      <td>36.07</td>\n",
       "      <td>NaN</td>\n",
       "      <td>37.28</td>\n",
       "      <td>36.74</td>\n",
       "      <td>36.57</td>\n",
       "      <td>37.21</td>\n",
       "      <td>36.98</td>\n",
       "      <td>36.55</td>\n",
       "      <td>36.73</td>\n",
       "    </tr>\n",
       "    <tr>\n",
       "      <th>7</th>\n",
       "      <td>Roger Sizzey</td>\n",
       "      <td>37.59</td>\n",
       "      <td>37.43</td>\n",
       "      <td>37.93</td>\n",
       "      <td>36.02</td>\n",
       "      <td>36.90</td>\n",
       "      <td>37.65</td>\n",
       "      <td>36.47</td>\n",
       "      <td>NaN</td>\n",
       "      <td>37.86</td>\n",
       "      <td>36.95</td>\n",
       "    </tr>\n",
       "    <tr>\n",
       "      <th>10</th>\n",
       "      <td>Winona Barck</td>\n",
       "      <td>36.79</td>\n",
       "      <td>36.06</td>\n",
       "      <td>37.05</td>\n",
       "      <td>36.13</td>\n",
       "      <td>37.82</td>\n",
       "      <td>36.58</td>\n",
       "      <td>36.34</td>\n",
       "      <td>36.38</td>\n",
       "      <td>NaN</td>\n",
       "      <td>37.83</td>\n",
       "    </tr>\n",
       "    <tr>\n",
       "      <th>...</th>\n",
       "      <td>...</td>\n",
       "      <td>...</td>\n",
       "      <td>...</td>\n",
       "      <td>...</td>\n",
       "      <td>...</td>\n",
       "      <td>...</td>\n",
       "      <td>...</td>\n",
       "      <td>...</td>\n",
       "      <td>...</td>\n",
       "      <td>...</td>\n",
       "      <td>...</td>\n",
       "    </tr>\n",
       "    <tr>\n",
       "      <th>3008</th>\n",
       "      <td>Wally Jahncke</td>\n",
       "      <td>37.35</td>\n",
       "      <td>36.92</td>\n",
       "      <td>37.10</td>\n",
       "      <td>37.60</td>\n",
       "      <td>37.82</td>\n",
       "      <td>36.52</td>\n",
       "      <td>37.16</td>\n",
       "      <td>NaN</td>\n",
       "      <td>37.24</td>\n",
       "      <td>37.35</td>\n",
       "    </tr>\n",
       "    <tr>\n",
       "      <th>3009</th>\n",
       "      <td>Morgana Izaks</td>\n",
       "      <td>37.11</td>\n",
       "      <td>37.13</td>\n",
       "      <td>NaN</td>\n",
       "      <td>NaN</td>\n",
       "      <td>36.71</td>\n",
       "      <td>37.30</td>\n",
       "      <td>37.45</td>\n",
       "      <td>36.81</td>\n",
       "      <td>37.25</td>\n",
       "      <td>36.51</td>\n",
       "    </tr>\n",
       "    <tr>\n",
       "      <th>3010</th>\n",
       "      <td>Desiree Gibbett</td>\n",
       "      <td>37.07</td>\n",
       "      <td>37.73</td>\n",
       "      <td>37.79</td>\n",
       "      <td>37.34</td>\n",
       "      <td>37.81</td>\n",
       "      <td>37.06</td>\n",
       "      <td>37.52</td>\n",
       "      <td>NaN</td>\n",
       "      <td>37.95</td>\n",
       "      <td>37.32</td>\n",
       "    </tr>\n",
       "    <tr>\n",
       "      <th>3011</th>\n",
       "      <td>Anabelle Kleinbaum</td>\n",
       "      <td>37.48</td>\n",
       "      <td>NaN</td>\n",
       "      <td>36.81</td>\n",
       "      <td>36.44</td>\n",
       "      <td>37.03</td>\n",
       "      <td>37.14</td>\n",
       "      <td>36.27</td>\n",
       "      <td>37.79</td>\n",
       "      <td>36.53</td>\n",
       "      <td>36.71</td>\n",
       "    </tr>\n",
       "    <tr>\n",
       "      <th>3014</th>\n",
       "      <td>Marnia Carillo</td>\n",
       "      <td>NaN</td>\n",
       "      <td>36.93</td>\n",
       "      <td>36.47</td>\n",
       "      <td>38.00</td>\n",
       "      <td>37.94</td>\n",
       "      <td>36.93</td>\n",
       "      <td>NaN</td>\n",
       "      <td>36.01</td>\n",
       "      <td>37.02</td>\n",
       "      <td>37.51</td>\n",
       "    </tr>\n",
       "  </tbody>\n",
       "</table>\n",
       "<p>1368 rows × 11 columns</p>\n",
       "</div>\n",
       "    <div class=\"colab-df-buttons\">\n",
       "\n",
       "  <div class=\"colab-df-container\">\n",
       "    <button class=\"colab-df-convert\" onclick=\"convertToInteractive('df-956ffb2c-4c1c-4376-acb2-1a6ff4c01b58')\"\n",
       "            title=\"Convert this dataframe to an interactive table.\"\n",
       "            style=\"display:none;\">\n",
       "\n",
       "  <svg xmlns=\"http://www.w3.org/2000/svg\" height=\"24px\" viewBox=\"0 -960 960 960\">\n",
       "    <path d=\"M120-120v-720h720v720H120Zm60-500h600v-160H180v160Zm220 220h160v-160H400v160Zm0 220h160v-160H400v160ZM180-400h160v-160H180v160Zm440 0h160v-160H620v160ZM180-180h160v-160H180v160Zm440 0h160v-160H620v160Z\"/>\n",
       "  </svg>\n",
       "    </button>\n",
       "\n",
       "  <style>\n",
       "    .colab-df-container {\n",
       "      display:flex;\n",
       "      gap: 12px;\n",
       "    }\n",
       "\n",
       "    .colab-df-convert {\n",
       "      background-color: #E8F0FE;\n",
       "      border: none;\n",
       "      border-radius: 50%;\n",
       "      cursor: pointer;\n",
       "      display: none;\n",
       "      fill: #1967D2;\n",
       "      height: 32px;\n",
       "      padding: 0 0 0 0;\n",
       "      width: 32px;\n",
       "    }\n",
       "\n",
       "    .colab-df-convert:hover {\n",
       "      background-color: #E2EBFA;\n",
       "      box-shadow: 0px 1px 2px rgba(60, 64, 67, 0.3), 0px 1px 3px 1px rgba(60, 64, 67, 0.15);\n",
       "      fill: #174EA6;\n",
       "    }\n",
       "\n",
       "    .colab-df-buttons div {\n",
       "      margin-bottom: 4px;\n",
       "    }\n",
       "\n",
       "    [theme=dark] .colab-df-convert {\n",
       "      background-color: #3B4455;\n",
       "      fill: #D2E3FC;\n",
       "    }\n",
       "\n",
       "    [theme=dark] .colab-df-convert:hover {\n",
       "      background-color: #434B5C;\n",
       "      box-shadow: 0px 1px 3px 1px rgba(0, 0, 0, 0.15);\n",
       "      filter: drop-shadow(0px 1px 2px rgba(0, 0, 0, 0.3));\n",
       "      fill: #FFFFFF;\n",
       "    }\n",
       "  </style>\n",
       "\n",
       "    <script>\n",
       "      const buttonEl =\n",
       "        document.querySelector('#df-956ffb2c-4c1c-4376-acb2-1a6ff4c01b58 button.colab-df-convert');\n",
       "      buttonEl.style.display =\n",
       "        google.colab.kernel.accessAllowed ? 'block' : 'none';\n",
       "\n",
       "      async function convertToInteractive(key) {\n",
       "        const element = document.querySelector('#df-956ffb2c-4c1c-4376-acb2-1a6ff4c01b58');\n",
       "        const dataTable =\n",
       "          await google.colab.kernel.invokeFunction('convertToInteractive',\n",
       "                                                    [key], {});\n",
       "        if (!dataTable) return;\n",
       "\n",
       "        const docLinkHtml = 'Like what you see? Visit the ' +\n",
       "          '<a target=\"_blank\" href=https://colab.research.google.com/notebooks/data_table.ipynb>data table notebook</a>'\n",
       "          + ' to learn more about interactive tables.';\n",
       "        element.innerHTML = '';\n",
       "        dataTable['output_type'] = 'display_data';\n",
       "        await google.colab.output.renderOutput(dataTable, element);\n",
       "        const docLink = document.createElement('div');\n",
       "        docLink.innerHTML = docLinkHtml;\n",
       "        element.appendChild(docLink);\n",
       "      }\n",
       "    </script>\n",
       "  </div>\n",
       "\n",
       "\n",
       "    <div id=\"df-0b412c8d-fbee-4ace-941b-1fa7e7b35559\">\n",
       "      <button class=\"colab-df-quickchart\" onclick=\"quickchart('df-0b412c8d-fbee-4ace-941b-1fa7e7b35559')\"\n",
       "                title=\"Suggest charts\"\n",
       "                style=\"display:none;\">\n",
       "\n",
       "<svg xmlns=\"http://www.w3.org/2000/svg\" height=\"24px\"viewBox=\"0 0 24 24\"\n",
       "     width=\"24px\">\n",
       "    <g>\n",
       "        <path d=\"M19 3H5c-1.1 0-2 .9-2 2v14c0 1.1.9 2 2 2h14c1.1 0 2-.9 2-2V5c0-1.1-.9-2-2-2zM9 17H7v-7h2v7zm4 0h-2V7h2v10zm4 0h-2v-4h2v4z\"/>\n",
       "    </g>\n",
       "</svg>\n",
       "      </button>\n",
       "\n",
       "<style>\n",
       "  .colab-df-quickchart {\n",
       "      --bg-color: #E8F0FE;\n",
       "      --fill-color: #1967D2;\n",
       "      --hover-bg-color: #E2EBFA;\n",
       "      --hover-fill-color: #174EA6;\n",
       "      --disabled-fill-color: #AAA;\n",
       "      --disabled-bg-color: #DDD;\n",
       "  }\n",
       "\n",
       "  [theme=dark] .colab-df-quickchart {\n",
       "      --bg-color: #3B4455;\n",
       "      --fill-color: #D2E3FC;\n",
       "      --hover-bg-color: #434B5C;\n",
       "      --hover-fill-color: #FFFFFF;\n",
       "      --disabled-bg-color: #3B4455;\n",
       "      --disabled-fill-color: #666;\n",
       "  }\n",
       "\n",
       "  .colab-df-quickchart {\n",
       "    background-color: var(--bg-color);\n",
       "    border: none;\n",
       "    border-radius: 50%;\n",
       "    cursor: pointer;\n",
       "    display: none;\n",
       "    fill: var(--fill-color);\n",
       "    height: 32px;\n",
       "    padding: 0;\n",
       "    width: 32px;\n",
       "  }\n",
       "\n",
       "  .colab-df-quickchart:hover {\n",
       "    background-color: var(--hover-bg-color);\n",
       "    box-shadow: 0 1px 2px rgba(60, 64, 67, 0.3), 0 1px 3px 1px rgba(60, 64, 67, 0.15);\n",
       "    fill: var(--button-hover-fill-color);\n",
       "  }\n",
       "\n",
       "  .colab-df-quickchart-complete:disabled,\n",
       "  .colab-df-quickchart-complete:disabled:hover {\n",
       "    background-color: var(--disabled-bg-color);\n",
       "    fill: var(--disabled-fill-color);\n",
       "    box-shadow: none;\n",
       "  }\n",
       "\n",
       "  .colab-df-spinner {\n",
       "    border: 2px solid var(--fill-color);\n",
       "    border-color: transparent;\n",
       "    border-bottom-color: var(--fill-color);\n",
       "    animation:\n",
       "      spin 1s steps(1) infinite;\n",
       "  }\n",
       "\n",
       "  @keyframes spin {\n",
       "    0% {\n",
       "      border-color: transparent;\n",
       "      border-bottom-color: var(--fill-color);\n",
       "      border-left-color: var(--fill-color);\n",
       "    }\n",
       "    20% {\n",
       "      border-color: transparent;\n",
       "      border-left-color: var(--fill-color);\n",
       "      border-top-color: var(--fill-color);\n",
       "    }\n",
       "    30% {\n",
       "      border-color: transparent;\n",
       "      border-left-color: var(--fill-color);\n",
       "      border-top-color: var(--fill-color);\n",
       "      border-right-color: var(--fill-color);\n",
       "    }\n",
       "    40% {\n",
       "      border-color: transparent;\n",
       "      border-right-color: var(--fill-color);\n",
       "      border-top-color: var(--fill-color);\n",
       "    }\n",
       "    60% {\n",
       "      border-color: transparent;\n",
       "      border-right-color: var(--fill-color);\n",
       "    }\n",
       "    80% {\n",
       "      border-color: transparent;\n",
       "      border-right-color: var(--fill-color);\n",
       "      border-bottom-color: var(--fill-color);\n",
       "    }\n",
       "    90% {\n",
       "      border-color: transparent;\n",
       "      border-bottom-color: var(--fill-color);\n",
       "    }\n",
       "  }\n",
       "</style>\n",
       "\n",
       "      <script>\n",
       "        async function quickchart(key) {\n",
       "          const quickchartButtonEl =\n",
       "            document.querySelector('#' + key + ' button');\n",
       "          quickchartButtonEl.disabled = true;  // To prevent multiple clicks.\n",
       "          quickchartButtonEl.classList.add('colab-df-spinner');\n",
       "          try {\n",
       "            const charts = await google.colab.kernel.invokeFunction(\n",
       "                'suggestCharts', [key], {});\n",
       "          } catch (error) {\n",
       "            console.error('Error during call to suggestCharts:', error);\n",
       "          }\n",
       "          quickchartButtonEl.classList.remove('colab-df-spinner');\n",
       "          quickchartButtonEl.classList.add('colab-df-quickchart-complete');\n",
       "        }\n",
       "        (() => {\n",
       "          let quickchartButtonEl =\n",
       "            document.querySelector('#df-0b412c8d-fbee-4ace-941b-1fa7e7b35559 button');\n",
       "          quickchartButtonEl.style.display =\n",
       "            google.colab.kernel.accessAllowed ? 'block' : 'none';\n",
       "        })();\n",
       "      </script>\n",
       "    </div>\n",
       "\n",
       "    </div>\n",
       "  </div>\n"
      ],
      "text/plain": [
       "                   nombre     d1     d2     d3     d4     d5     d6     d7  \\\n",
       "2         Almeta Meredith  36.89  37.74  36.16  36.59  37.93  37.12  36.34   \n",
       "3     Massimiliano Waller  36.50  37.91    NaN  36.16  37.41  37.73  36.57   \n",
       "5          Haleigh Rumgay  36.47  36.07    NaN  37.28  36.74  36.57  37.21   \n",
       "7            Roger Sizzey  37.59  37.43  37.93  36.02  36.90  37.65  36.47   \n",
       "10           Winona Barck  36.79  36.06  37.05  36.13  37.82  36.58  36.34   \n",
       "...                   ...    ...    ...    ...    ...    ...    ...    ...   \n",
       "3008        Wally Jahncke  37.35  36.92  37.10  37.60  37.82  36.52  37.16   \n",
       "3009        Morgana Izaks  37.11  37.13    NaN    NaN  36.71  37.30  37.45   \n",
       "3010      Desiree Gibbett  37.07  37.73  37.79  37.34  37.81  37.06  37.52   \n",
       "3011   Anabelle Kleinbaum  37.48    NaN  36.81  36.44  37.03  37.14  36.27   \n",
       "3014       Marnia Carillo    NaN  36.93  36.47  38.00  37.94  36.93    NaN   \n",
       "\n",
       "         d8     d9    d10  \n",
       "2     36.04    NaN  37.05  \n",
       "3     37.94  36.03  36.80  \n",
       "5     36.98  36.55  36.73  \n",
       "7       NaN  37.86  36.95  \n",
       "10    36.38    NaN  37.83  \n",
       "...     ...    ...    ...  \n",
       "3008    NaN  37.24  37.35  \n",
       "3009  36.81  37.25  36.51  \n",
       "3010    NaN  37.95  37.32  \n",
       "3011  37.79  36.53  36.71  \n",
       "3014  36.01  37.02  37.51  \n",
       "\n",
       "[1368 rows x 11 columns]"
      ]
     },
     "execution_count": 142,
     "metadata": {},
     "output_type": "execute_result"
    }
   ],
   "source": [
    "df[df.isnull().any(axis = 1)]"
   ]
  },
  {
   "cell_type": "markdown",
   "metadata": {
    "id": "6-ESytit7JMY"
   },
   "source": [
    "💡 Podemos filtrar el dataframe para mostrar sólo las filas que contienen valores nulos en una columna específica.\n",
    "La sintaxis es la siguiente: `df[df[\"columna\"].isnull()]`"
   ]
  },
  {
   "cell_type": "markdown",
   "metadata": {
    "id": "zhiVSimQdHnl"
   },
   "source": [
    "En clase 5 comenzaremos a ver tecnicas para imputación de nulos, aquí un anticipo"
   ]
  },
  {
   "cell_type": "code",
   "execution_count": 143,
   "metadata": {
    "executionInfo": {
     "elapsed": 5,
     "status": "ok",
     "timestamp": 1758142423091,
     "user": {
      "displayName": "Juan Pablo Rigotti",
      "userId": "00152857968777329382"
     },
     "user_tz": 180
    },
    "id": "RoQyxsF5UBxp"
   },
   "outputs": [],
   "source": [
    "dfclean = df.dropna()"
   ]
  },
  {
   "cell_type": "code",
   "execution_count": null,
   "metadata": {
    "id": "KB7pro4bUEZW"
   },
   "outputs": [],
   "source": [
    "dfclean.isnull().sum()"
   ]
  },
  {
   "cell_type": "code",
   "execution_count": 148,
   "metadata": {
    "executionInfo": {
     "elapsed": 12,
     "status": "ok",
     "timestamp": 1758142758178,
     "user": {
      "displayName": "Juan Pablo Rigotti",
      "userId": "00152857968777329382"
     },
     "user_tz": 180
    },
    "id": "7DNLC1nYeAkI"
   },
   "outputs": [],
   "source": [
    "df_0 = df.fillna(0)"
   ]
  },
  {
   "cell_type": "code",
   "execution_count": 150,
   "metadata": {
    "executionInfo": {
     "elapsed": 6,
     "status": "ok",
     "timestamp": 1758142953034,
     "user": {
      "displayName": "Juan Pablo Rigotti",
      "userId": "00152857968777329382"
     },
     "user_tz": 180
    },
    "id": "yU8_XofbeIRo"
   },
   "outputs": [],
   "source": [
    "df_mean = df.fillna(df.mean(numeric_only=True))"
   ]
  }
 ],
 "metadata": {
  "colab": {
   "collapsed_sections": [
    "HUw9s4PNlhQu"
   ],
   "provenance": [
    {
     "file_id": "1uWnmWW9HLdzwqqLvK1atnTGyb1TLrC0y",
     "timestamp": 1758132592720
    },
    {
     "file_id": "1Gs8WMSsH-eReldwC5CKfNcOItXN2cCg0",
     "timestamp": 1757880423326
    }
   ]
  },
  "kernelspec": {
   "display_name": "Python 3",
   "name": "python3"
  },
  "language_info": {
   "name": "python",
   "version": "3.13.2"
  }
 },
 "nbformat": 4,
 "nbformat_minor": 0
}
