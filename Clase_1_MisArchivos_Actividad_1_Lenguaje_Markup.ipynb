{
  "nbformat": 4,
  "nbformat_minor": 0,
  "metadata": {
    "colab": {
      "provenance": [],
      "include_colab_link": true
    },
    "kernelspec": {
      "name": "python3",
      "display_name": "Python 3"
    },
    "language_info": {
      "name": "python"
    }
  },
  "cells": [
    {
      "cell_type": "markdown",
      "metadata": {
        "id": "view-in-github",
        "colab_type": "text"
      },
      "source": [
        "<a href=\"https://colab.research.google.com/github/wvelazquez7/TT-2C2025-Data-Analitycs-Notebooks/blob/main/Clase_1_MisArchivos_Actividad_1_Lenguaje_Markup.ipynb\" target=\"_parent\"><img src=\"https://colab.research.google.com/assets/colab-badge.svg\" alt=\"Open In Colab\"/></a>"
      ]
    },
    {
      "cell_type": "markdown",
      "source": [
        "# Actividades"
      ],
      "metadata": {
        "id": "gCJoH7KuEUga"
      }
    },
    {
      "cell_type": "markdown",
      "source": [
        "## Actividad 1"
      ],
      "metadata": {
        "id": "NHa-sP3zJ8Db"
      }
    },
    {
      "cell_type": "markdown",
      "source": [
        "  Creá tu propio bloque de texto. Utiliza:\n",
        "  - formatos de texto\n",
        "  - links\n",
        "  - al menos una imagen de tu carpeta Drive"
      ],
      "metadata": {
        "id": "ZlSXlWj4KAZZ"
      }
    },
    {
      "cell_type": "markdown",
      "source": [
        "## Actividad 2"
      ],
      "metadata": {
        "id": "LTFeKV5uKDPK"
      }
    },
    {
      "cell_type": "markdown",
      "source": [
        "Creá un bloque de código con un programa que pida un número por teclado, y responda si es par o impar. Ejecutalo."
      ],
      "metadata": {
        "id": "NfVvRVxMKUu8"
      }
    }
  ]
}