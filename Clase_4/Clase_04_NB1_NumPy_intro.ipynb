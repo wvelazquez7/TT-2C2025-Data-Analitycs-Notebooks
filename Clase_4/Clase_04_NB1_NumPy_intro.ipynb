{
  "metadata": {
    "colab": {
      "provenance": []
    },
    "kernelspec": {
      "name": "python3",
      "display_name": "Python 3"
    },
    "language_info": {
      "name": "python"
    },
    "kaggle": {
      "accelerator": "none",
      "dataSources": [],
      "isInternetEnabled": true,
      "language": "python",
      "sourceType": "notebook",
      "isGpuEnabled": false
    }
  },
  "nbformat_minor": 0,
  "nbformat": 4,
  "cells": [
    {
      "cell_type": "markdown",
      "source": [
        "# **Numpy**\n",
        "NumPy es una librería de propósito general para el procesamiento de arrays.\n",
        "Proporciona un objeto de array multidimensional de alto rendimiento y herramientas para trabajar con estos arrays.\n",
        "<BR>\n",
        "\n",
        "El nombre NumPy proviene de “Numerical Python” (Python Numérico).\n",
        "<BR>\n",
        "\n",
        "Además, incluye funciones para trabajar en los dominios de:\n",
        "* Álgebra lineal\n",
        "* Matrices\n"
      ],
      "metadata": {
        "id": "4KvJyJ9pgMUh"
      }
    },
    {
      "cell_type": "markdown",
      "source": [
        "El objeto array en NumPy se llama ndarray (N-dimensional array).\n",
        "Este objeto viene acompañado de muchas funciones que facilitan enormemente el trabajo con los ndarray."
      ],
      "metadata": {
        "id": "JADp7eUWjQjA"
      }
    },
    {
      "cell_type": "markdown",
      "source": [
        "**Por qué es más rápido que las listas tradicionales de Python?**\n",
        "<BR>\n",
        "Los arrays de NumPy se almacenan en un único espacio continuo en memoria, a diferencia de las listas, por lo que los procesos pueden acceder y manipularlos de manera muy eficiente.\n",
        "<BR>\n",
        "Además, están optimizados para funcionar con las arquitecturas de CPU más recientes."
      ],
      "metadata": {
        "id": "HkvU-LozjrC_"
      }
    },
    {
      "cell_type": "markdown",
      "source": [
        "## Importamos NumPy con el alias np"
      ],
      "metadata": {
        "id": "pCL_0PYH_R-w"
      }
    },
    {
      "cell_type": "code",
      "source": [
        "import numpy as np"
      ],
      "metadata": {
        "id": "SEniHMnElwjz"
      },
      "execution_count": null,
      "outputs": []
    },
    {
      "cell_type": "markdown",
      "source": [
        "## Ver la versión"
      ],
      "metadata": {
        "id": "FSdvWZgplCk2"
      }
    },
    {
      "cell_type": "code",
      "source": [
        "print(np.__version__)"
      ],
      "metadata": {
        "id": "Bft3KLwqk-qA"
      },
      "execution_count": null,
      "outputs": []
    },
    {
      "cell_type": "markdown",
      "source": [
        "## Documentación oficial\n",
        "\n",
        "\n",
        "\n",
        "\n"
      ],
      "metadata": {
        "id": "AWEXLC0h_pAr"
      }
    },
    {
      "cell_type": "markdown",
      "source": [
        "[Acceder aquí](https://numpy.org/doc/)"
      ],
      "metadata": {
        "id": "hcFoUI2R_2Vu"
      }
    },
    {
      "cell_type": "markdown",
      "source": [
        "## Crear Arrays en NumPy\n",
        "NumPy se utiliza para trabajar con arrays.\n",
        "\n",
        "El objeto array en NumPy se llama ndarray.\n",
        "\n",
        "Podemos crear un objeto ndarray de NumPy usando la función array()."
      ],
      "metadata": {
        "id": "seRqr5rrldyK"
      }
    },
    {
      "cell_type": "code",
      "source": [
        "numeros = list([12,20,30,40,50,60])\n",
        "print(numeros)\n",
        "print(type(numeros))"
      ],
      "metadata": {
        "id": "-3cTEl2zeziB"
      },
      "execution_count": null,
      "outputs": []
    },
    {
      "cell_type": "code",
      "source": [
        "for indice in range(len(numeros)):\n",
        "  print(numeros[indice])"
      ],
      "metadata": {
        "colab": {
          "base_uri": "https://localhost:8080/"
        },
        "id": "BMUyy4xQhbVk",
        "outputId": "05460e45-00a5-48fe-b140-d6305c66902e"
      },
      "execution_count": 21,
      "outputs": [
        {
          "output_type": "stream",
          "name": "stdout",
          "text": [
            "13\n",
            "21\n",
            "31\n",
            "41\n",
            "51\n",
            "61\n"
          ]
        }
      ]
    },
    {
      "cell_type": "code",
      "source": [
        "arr = np.array([12,20,30,40,50,60]) #np.array()\n",
        "\n",
        "print(arr)\n",
        "print(type(arr))"
      ],
      "metadata": {
        "id": "N9dlJrRDlQrq"
      },
      "execution_count": null,
      "outputs": []
    },
    {
      "cell_type": "markdown",
      "source": [
        "Podemos pasar una lista, tupla o cualquier objeto similar a un array al método array(), y será convertido en un ndarray."
      ],
      "metadata": {
        "id": "gLoDkKa4AcaK"
      }
    },
    {
      "cell_type": "code",
      "source": [
        "arr =np.array((10,20,30,40,50,60))\n",
        "print(arr)\n",
        "print(type(arr))"
      ],
      "metadata": {
        "id": "osqEyNx2mKDD",
        "outputId": "edd462f2-13f8-4cb4-c55d-d6e16ab38757",
        "colab": {
          "base_uri": "https://localhost:8080/"
        }
      },
      "execution_count": 10,
      "outputs": [
        {
          "output_type": "stream",
          "name": "stdout",
          "text": [
            "[10 20 30 40 50 60]\n",
            "<class 'numpy.ndarray'>\n"
          ]
        }
      ]
    },
    {
      "cell_type": "markdown",
      "source": [
        "## Crear un array dentro de un rango específico\n",
        "\n",
        "El método np.arange() puede usarse en lugar del método np.array(range())."
      ],
      "metadata": {
        "id": "sQRWp1BjegCJ"
      }
    },
    {
      "cell_type": "code",
      "source": [
        "# np.arange(start, stop, step)\n",
        "arr = np.arange(3, 21, 1)\n",
        "print(arr)\n",
        "print(type(arr))"
      ],
      "metadata": {
        "id": "bANlY6aWekAg",
        "colab": {
          "base_uri": "https://localhost:8080/"
        },
        "outputId": "1041998d-0338-479b-e211-c1067347f8b1"
      },
      "execution_count": 22,
      "outputs": [
        {
          "output_type": "stream",
          "name": "stdout",
          "text": [
            "[ 3  4  5  6  7  8  9 10 11 12 13 14 15 16 17 18 19 20]\n",
            "<class 'numpy.ndarray'>\n"
          ]
        }
      ]
    },
    {
      "cell_type": "markdown",
      "source": [
        "## Crear un array de números equidistantes dentro de un rango específico\n",
        "\n",
        "np.linspace(start, stop, num_of_elements, endpoint=True, retstep=False) tiene 5 parámetros:\n",
        "\n",
        "start: número de inicio (inclusive)\n",
        "\n",
        "stop: número final (inclusive, a menos que endpoint esté establecido en False)\n",
        "\n",
        "num_of_elements: cantidad de elementos que contendrá el array\n",
        "\n",
        "endpoint: valor booleano que indica si el número stop está incluido o no\n",
        "\n",
        "retstep: valor booleano que indica si se debe devolver el tamaño del paso"
      ],
      "metadata": {
        "id": "2pWHP3wyep2h"
      }
    },
    {
      "cell_type": "markdown",
      "source": [
        "np.linspace se usa mucho cuando queremos generar los valores del eje x (ordenada)"
      ],
      "metadata": {
        "id": "jHgUhcIeh0To"
      }
    },
    {
      "cell_type": "code",
      "source": [
        "arr, step_size = np.linspace(0, 5, 10, endpoint=True, retstep=True)\n",
        "print(arr)\n",
        "print(arr.size)\n",
        "print('The step size is ' + str(step_size))"
      ],
      "metadata": {
        "id": "AAPCLkC6ezFf",
        "colab": {
          "base_uri": "https://localhost:8080/"
        },
        "outputId": "ea3c463e-fa91-4f18-ecca-d802f069cd30"
      },
      "execution_count": 15,
      "outputs": [
        {
          "output_type": "stream",
          "name": "stdout",
          "text": [
            "[0.         0.55555556 1.11111111 1.66666667 2.22222222 2.77777778\n",
            " 3.33333333 3.88888889 4.44444444 5.        ]\n",
            "10\n",
            "The step size is 0.5555555555555556\n"
          ]
        }
      ]
    },
    {
      "cell_type": "markdown",
      "source": [
        "## Crear un array de valores aleatorios con una forma determinada\n",
        "\n",
        "El método np.random.rand() devuelve valores en el rango [0, 1)."
      ],
      "metadata": {
        "id": "Mx-9TGmgfK46"
      }
    },
    {
      "cell_type": "code",
      "source": [
        "# arr = np.random.rand(2, 3)\n",
        "arr = np.round(np.random.rand(2, 3), 2)\n",
        "print(arr)"
      ],
      "metadata": {
        "id": "cn4EMlU2fPS6",
        "colab": {
          "base_uri": "https://localhost:8080/"
        },
        "outputId": "52f77ab8-0e53-49e3-aaaf-0000a4dd99a8"
      },
      "execution_count": 18,
      "outputs": [
        {
          "output_type": "stream",
          "name": "stdout",
          "text": [
            "[[0.51 0.99 0.06]\n",
            " [0.26 0.6  0.47]]\n"
          ]
        }
      ]
    },
    {
      "cell_type": "markdown",
      "source": [
        "## Crear un array de ceros\n",
        "\n",
        "np.zeros(): crea un array de solo ceros con la forma especificada\n",
        "\n",
        "np.zeros_like(): crea un array de solo ceros con la misma forma y tipo de dato que el array dado como entrada"
      ],
      "metadata": {
        "id": "0J8GPnMLfSG3"
      }
    },
    {
      "cell_type": "code",
      "source": [
        "zeros = np.zeros((2,3))\n",
        "print(zeros)"
      ],
      "metadata": {
        "id": "120-y0-ofXev",
        "colab": {
          "base_uri": "https://localhost:8080/"
        },
        "outputId": "4baeab20-6e42-4161-ccac-c875175f1ee7"
      },
      "execution_count": 23,
      "outputs": [
        {
          "output_type": "stream",
          "name": "stdout",
          "text": [
            "[[0. 0. 0.]\n",
            " [0. 0. 0.]]\n"
          ]
        }
      ]
    },
    {
      "cell_type": "markdown",
      "source": [
        "## Crear un array de unos\n",
        "\n",
        "np.ones(): crea un array de solo unos con la forma especificada\n",
        "\n",
        "np.ones_like(): crea un array de solo unos con la misma forma y tipo de dato que el array dado como entrada"
      ],
      "metadata": {
        "id": "jzzMBgpIjJeq"
      }
    },
    {
      "cell_type": "code",
      "source": [
        "ones = np.ones((2,3))\n",
        "print(ones)"
      ],
      "metadata": {
        "id": "m5wJGFZbjLeQ",
        "colab": {
          "base_uri": "https://localhost:8080/"
        },
        "outputId": "9b52ee7b-3955-4e2f-a4d0-07edf0cce424"
      },
      "execution_count": 25,
      "outputs": [
        {
          "output_type": "stream",
          "name": "stdout",
          "text": [
            "[[1. 1. 1.]\n",
            " [1. 1. 1.]]\n"
          ]
        }
      ]
    },
    {
      "cell_type": "code",
      "source": [
        "arr = [[1,2,3], [4,5,6]] # matriz de 2 x 3\n",
        "ones = np.ones_like(arr)\n",
        "print(ones)\n",
        "print('Data Type: ' + str(ones.dtype))"
      ],
      "metadata": {
        "id": "0AAoC55ijSYD",
        "colab": {
          "base_uri": "https://localhost:8080/"
        },
        "outputId": "371a1b00-6cd6-4498-c28c-80e4dd42df4b"
      },
      "execution_count": 26,
      "outputs": [
        {
          "output_type": "stream",
          "name": "stdout",
          "text": [
            "[[1 1 1]\n",
            " [1 1 1]]\n",
            "Data Type: int64\n"
          ]
        }
      ]
    },
    {
      "cell_type": "markdown",
      "source": [
        "## Crear un array vacío con una forma determinada\n",
        "\n",
        "np.empty(): crea un array de valores vacíos con la forma especificada\n",
        "\n",
        "np.empty_like(): crea un array de valores vacíos con la misma forma y tipo de dato que el array dado como entrada\n",
        "\n",
        "Ten en cuenta que los valores iniciales no están necesariamente establecidos en cero.\n",
        "\n",
        "Son simplemente valores basura que ya estaban almacenados en direcciones de memoria aleatorias."
      ],
      "metadata": {
        "id": "VFqviWkVjaVF"
      }
    },
    {
      "cell_type": "code",
      "source": [
        "empty = np.empty((2,2))\n",
        "print(empty)\n",
        "print(empty.dtype)"
      ],
      "metadata": {
        "id": "WEwT03LPjgIK"
      },
      "execution_count": null,
      "outputs": []
    },
    {
      "cell_type": "code",
      "source": [
        "newarr = np.array([[10,20,30], [40,50,60]], dtype=np.int64)\n",
        "empty = np.empty_like(newarr)\n",
        "print(empty)\n",
        "print('Data Type: ' + str(empty.dtype))"
      ],
      "metadata": {
        "id": "7baNixS5jolI"
      },
      "execution_count": null,
      "outputs": []
    },
    {
      "cell_type": "markdown",
      "source": [
        "## Crear un array de valores constantes con una forma determinada\n",
        "\n",
        "np.full(): crea un array de valores constantes con la forma especificada\n",
        "\n",
        "np.full_like(): crea un array de valores constantes con la misma forma y tipo de dato que el array dado como entrada"
      ],
      "metadata": {
        "id": "8EOIIdYAjy8t"
      }
    },
    {
      "cell_type": "code",
      "source": [
        "full = np.full((4,4), 4)\n",
        "print(full)"
      ],
      "metadata": {
        "id": "6SU_boPzkBkB"
      },
      "execution_count": null,
      "outputs": []
    },
    {
      "cell_type": "code",
      "source": [
        "arr = np.array([[1,2], [3,4]], dtype=np.int64)\n",
        "full = np.full_like(arr, 5)\n",
        "print(full)\n",
        "print('Data Type: ' + str(full.dtype))"
      ],
      "metadata": {
        "id": "GivlhatSkG19"
      },
      "execution_count": null,
      "outputs": []
    },
    {
      "cell_type": "markdown",
      "source": [
        "## **Create an identity matrix of given size**\n",
        "- ```np.eye(size, k=0)```: create an identity matrix of given size\n",
        "    - ```size```: the size of the identity matrix\n",
        "    - ```k```: the diagonal offset\n",
        "- ```np.identity()```: same as ```np.eye()``` but does not carry parameters"
      ],
      "metadata": {
        "id": "-K7TxYfRlHpU"
      }
    },
    {
      "cell_type": "code",
      "source": [
        "identity_matrix = np.eye(4)\n",
        "print(identity_matrix)\n",
        "print(type(identity_matrix))"
      ],
      "metadata": {
        "id": "Mc93q__tlN5_"
      },
      "execution_count": null,
      "outputs": []
    },
    {
      "cell_type": "code",
      "source": [
        "# An example of diagonal offset\n",
        "identity_matrix = np.eye(5, k=1) # default k = 0\n",
        "print(identity_matrix)"
      ],
      "metadata": {
        "id": "NC24vSGElTQu"
      },
      "execution_count": null,
      "outputs": []
    },
    {
      "cell_type": "code",
      "source": [
        "identity_matrix = np.identity(5)\n",
        "print(identity_matrix)\n",
        "print(type(identity_matrix))"
      ],
      "metadata": {
        "id": "wYOO5Kq5lVWY"
      },
      "execution_count": null,
      "outputs": []
    },
    {
      "cell_type": "markdown",
      "source": [
        "## No tiene que ser una matriz cuadrada"
      ],
      "metadata": {
        "id": "mHAoUjm1m3yQ"
      }
    },
    {
      "cell_type": "code",
      "source": [
        "arr = np.random.rand(5,3)\n",
        "print(arr)"
      ],
      "metadata": {
        "id": "fbHlmSrtmnBu"
      },
      "execution_count": null,
      "outputs": []
    },
    {
      "cell_type": "markdown",
      "source": [
        "# **Dimensions in Arrays**\n",
        "A **dimension** in arrays is **one level** of **array depth** (nested arrays).\n",
        "\n",
        "**Nested array:** are arrays that **have arrays as their elements.**"
      ],
      "metadata": {
        "id": "kmKF58Y8m6UV"
      }
    },
    {
      "cell_type": "markdown",
      "source": [
        "## Arrays 0-D\n",
        "\n",
        "Los arrays 0-D, o escalares, son los elementos dentro de un array.\n",
        "\n",
        "Cada valor en un array es un array 0-D."
      ],
      "metadata": {
        "id": "P7TKyt-knJLt"
      }
    },
    {
      "cell_type": "code",
      "source": [
        "#create 0-D array with value '10'\n",
        "\n",
        "arr=np.array('10')\n",
        "print(arr)"
      ],
      "metadata": {
        "id": "L5FOCJSvm3tc",
        "colab": {
          "base_uri": "https://localhost:8080/"
        },
        "outputId": "dc9956d7-a3a2-4283-b06e-7b98c902aaa3"
      },
      "execution_count": 27,
      "outputs": [
        {
          "output_type": "stream",
          "name": "stdout",
          "text": [
            "10\n"
          ]
        }
      ]
    },
    {
      "cell_type": "markdown",
      "source": [
        "## Arrays unidimensionales (1-D)\n",
        "\n",
        "Un array que tiene arrays de 0 dimensiones (0-D) como sus elementos se llama unidimensional o array 1-D.\n",
        "\n",
        "Estos son los arrays más comunes y básicos."
      ],
      "metadata": {
        "id": "WR8nYGwmnulk"
      }
    },
    {
      "cell_type": "code",
      "source": [
        "arr = np.array([1, 2, 3, 4, 5])\n",
        "\n",
        "print(arr)"
      ],
      "metadata": {
        "id": "Yompr9xUnmsX",
        "colab": {
          "base_uri": "https://localhost:8080/"
        },
        "outputId": "d1691c08-132d-487b-dd59-eb1068d2e1bc"
      },
      "execution_count": 28,
      "outputs": [
        {
          "output_type": "stream",
          "name": "stdout",
          "text": [
            "[1 2 3 4 5]\n"
          ]
        }
      ]
    },
    {
      "cell_type": "markdown",
      "source": [
        "## Arrays bidimensionales (2-D)\n",
        "\n",
        "Un array que tiene arrays unidimensionales (1-D) como sus elementos se llama array 2-D.\n",
        "\n",
        "Estos se utilizan frecuentemente para representar matrices o tensores de segundo orden.\n",
        "\n",
        "NumPy tiene todo un submódulo dedicado a las operaciones con matrices, llamado numpy.mat."
      ],
      "metadata": {
        "id": "DUwZ7zXPoD5a"
      }
    },
    {
      "cell_type": "code",
      "source": [
        "arr= np.array([[10,20,30],[40,50,60]])\n",
        "print(arr)"
      ],
      "metadata": {
        "id": "AZFnswKPn__R",
        "colab": {
          "base_uri": "https://localhost:8080/"
        },
        "outputId": "9868a68a-985e-4e55-aafa-2612af70f898"
      },
      "execution_count": 29,
      "outputs": [
        {
          "output_type": "stream",
          "name": "stdout",
          "text": [
            "[[10 20 30]\n",
            " [40 50 60]]\n"
          ]
        }
      ]
    },
    {
      "cell_type": "markdown",
      "source": [
        "## Arrays tridimensionales (3-D)\n",
        "\n",
        "Un array que tiene arrays 2-D (matrices) como sus elementos se llama array 3-D.\n",
        "\n",
        "Estos se utilizan frecuentemente para representar un tensor de tercer orden."
      ],
      "metadata": {
        "id": "OOtM_MWloxqW"
      }
    },
    {
      "cell_type": "code",
      "source": [
        "arr =np.array([[[10,20,30],[40,50,60]],[[10,20,30],[40,50,60]]])\n",
        "print(arr)"
      ],
      "metadata": {
        "id": "wYEDkWZKoqtg",
        "colab": {
          "base_uri": "https://localhost:8080/"
        },
        "outputId": "0b552569-6cfa-4267-8886-91885a278b95"
      },
      "execution_count": 30,
      "outputs": [
        {
          "output_type": "stream",
          "name": "stdout",
          "text": [
            "[[[10 20 30]\n",
            "  [40 50 60]]\n",
            "\n",
            " [[10 20 30]\n",
            "  [40 50 60]]]\n"
          ]
        }
      ]
    },
    {
      "cell_type": "markdown",
      "source": [
        "##¿Cómo verificar el número de dimensiones?\n",
        "\n",
        "Los arrays de NumPy proporcionan el atributo ndim, que devuelve un número entero indicando cuántas dimensiones tiene el array."
      ],
      "metadata": {
        "id": "gR0j-RXcpf8k"
      }
    },
    {
      "cell_type": "code",
      "source": [
        "array_0d = np.array(42)\n",
        "array_1d = np.array([1, 2, 3, 4, 5])\n",
        "array_2d = np.array([[1, 2, 3], [4, 5, 6]])\n",
        "array_3d = np.array([[[1, 2, 3], [4, 5, 6]], [[1, 2, 3], [4, 5, 6]]])\n",
        "\n",
        "print(f\"El número de dimensiones del array es :\" ,array_0d.ndim)\n",
        "print(f\"El número de dimensiones del array es :\" ,array_1d.ndim)\n",
        "print(f\"El número de dimensiones del array es :\" ,array_2d.ndim)\n",
        "print(f\"El número de dimensiones del array es :\" ,array_3d.ndim)"
      ],
      "metadata": {
        "id": "jgYFZoIepUGp",
        "colab": {
          "base_uri": "https://localhost:8080/"
        },
        "outputId": "429d07b5-3b5a-426b-e654-1eaa62a33833"
      },
      "execution_count": 31,
      "outputs": [
        {
          "output_type": "stream",
          "name": "stdout",
          "text": [
            "El número de dimensiones del array es : 0\n",
            "El número de dimensiones del array es : 1\n",
            "El número de dimensiones del array es : 2\n",
            "El número de dimensiones del array es : 3\n"
          ]
        }
      ]
    },
    {
      "cell_type": "markdown",
      "source": [
        "## Inspeccionar información general de un array"
      ],
      "metadata": {
        "id": "vNZ3hn4knx_c"
      }
    },
    {
      "cell_type": "code",
      "source": [
        "print(np.info(array_2d))"
      ],
      "metadata": {
        "id": "DDlBvYY6n2sX",
        "colab": {
          "base_uri": "https://localhost:8080/"
        },
        "outputId": "d7ee1f5e-443e-47c9-de86-36c0eb97097f"
      },
      "execution_count": 32,
      "outputs": [
        {
          "output_type": "stream",
          "name": "stdout",
          "text": [
            "class:  ndarray\n",
            "shape:  (2, 3)\n",
            "strides:  (24, 8)\n",
            "itemsize:  8\n",
            "aligned:  True\n",
            "contiguous:  True\n",
            "fortran:  False\n",
            "data pointer: 0x2a910a0\n",
            "byteorder:  little\n",
            "byteswap:  False\n",
            "type: int64\n",
            "None\n"
          ]
        }
      ]
    },
    {
      "cell_type": "markdown",
      "source": [
        "# Tipos de datos en NumPy\n",
        "\n",
        "NumPy tiene algunos tipos de datos adicionales, y se refiere a los tipos de datos con un solo carácter, como i para enteros, u para enteros sin signo, etc.\n",
        "\n",
        "**i** entero\n",
        "\n",
        "**b** booleano\n",
        "\n",
        "**u** entero sin signo\n",
        "\n",
        "**f** número de punto flotante\n",
        "\n",
        "**c** número complejo de punto flotante\n",
        "\n",
        "**m** diferencia de tiempo (timedelta)\n",
        "\n",
        "**M** fecha y hora (datetime)\n",
        "\n",
        "**O** objeto (object)\n",
        "\n",
        "**S** cadena de caracteres (string - ASCII)\n",
        "\n",
        "**U** cadena Unicode\n",
        "\n",
        "**V** bloque fijo de memoria para otro tipo (void)"
      ],
      "metadata": {
        "id": "9bDPc-hCrPQD"
      }
    },
    {
      "cell_type": "markdown",
      "source": [
        "[NumPy Data Types](https://numpy.org/doc/2.3/user/basics.types.html)"
      ],
      "metadata": {
        "id": "puf1fbFZEaWo"
      }
    },
    {
      "cell_type": "markdown",
      "source": [
        "## Verificar el tipo de dato de un array\n",
        "\n",
        "El objeto array de NumPy tiene una propiedad llamada dtype que devuelve el tipo de dato del array."
      ],
      "metadata": {
        "id": "sbVu84F3sLN9"
      }
    },
    {
      "cell_type": "code",
      "source": [
        "arr = np.array([1, 2, 3, 4.6])\n",
        "\n",
        "print(arr.dtype)"
      ],
      "metadata": {
        "id": "FSE10QBFqXiw",
        "colab": {
          "base_uri": "https://localhost:8080/"
        },
        "outputId": "c4a3ddb0-4f57-40be-8ebf-719f77942282"
      },
      "execution_count": 34,
      "outputs": [
        {
          "output_type": "stream",
          "name": "stdout",
          "text": [
            "float64\n"
          ]
        }
      ]
    },
    {
      "cell_type": "code",
      "source": [
        "arr = np.array(['apple', 'banana', 'cherry', 3])\n",
        "\n",
        "print(arr.dtype)"
      ],
      "metadata": {
        "id": "PuFW3tzzsO3s",
        "colab": {
          "base_uri": "https://localhost:8080/"
        },
        "outputId": "fdac662f-ac13-469b-bfca-fcd205ef18ca"
      },
      "execution_count": 36,
      "outputs": [
        {
          "output_type": "stream",
          "name": "stdout",
          "text": [
            "<U21\n"
          ]
        }
      ]
    },
    {
      "cell_type": "markdown",
      "source": [
        "## Crear arrays con un tipo de dato definido\n",
        "\n",
        "La función array() puede recibir un argumento opcional llamado dtype, que nos permite definir el tipo de dato esperado para los elementos del array."
      ],
      "metadata": {
        "id": "Dr_CCFi-sjWy"
      }
    },
    {
      "cell_type": "code",
      "source": [
        "# arr = np.array([1, 2, 3, 4.5], dtype=str)\n",
        "arr = np.array([1, 2, 3, 4], dtype=\"S\") # pueden usar i, f, etc\n",
        "\n",
        "print(arr)\n",
        "print(arr.dtype)  #los datos son convertidos a string"
      ],
      "metadata": {
        "id": "SAx08gwvsWSx",
        "colab": {
          "base_uri": "https://localhost:8080/"
        },
        "outputId": "992a5fe0-e874-4493-f397-755ebf4570c3"
      },
      "execution_count": 42,
      "outputs": [
        {
          "output_type": "stream",
          "name": "stdout",
          "text": [
            "[b'1' b'2' b'3' b'4']\n",
            "|S1\n"
          ]
        }
      ]
    },
    {
      "cell_type": "markdown",
      "source": [
        "## ¿Qué pasa si un valor no se puede convertir?\n",
        "\n",
        "Si se especifica un tipo al cual los elementos no pueden ser convertidos, entonces NumPy lanzará un ValueError.\n",
        "\n",
        "ValueError: En Python, un ValueError se lanza cuando el tipo del argumento pasado a una función es inesperado o incorrecto."
      ],
      "metadata": {
        "id": "JPiA_TxwtybT"
      }
    },
    {
      "cell_type": "code",
      "source": [
        "arr = np.array(['a', '2', '3'], dtype='i') #obtenemos error al querer convertir un str a int"
      ],
      "metadata": {
        "id": "ywxlNjzxti9q",
        "colab": {
          "base_uri": "https://localhost:8080/"
        },
        "outputId": "f894ef9d-c7b0-4e4a-ca79-20cdbc3d6533"
      },
      "execution_count": 46,
      "outputs": [
        {
          "output_type": "stream",
          "name": "stdout",
          "text": [
            "['a' '2' '3' '4']\n"
          ]
        }
      ]
    },
    {
      "cell_type": "markdown",
      "source": [
        "## Convertir el tipo de dato en arrays existentes\n",
        "\n",
        "La mejor forma de cambiar el tipo de dato de un array existente es hacer una copia del array utilizando el método astype().\n",
        "La función astype() crea una copia del array y te permite especificar el tipo de dato como parámetro.\n",
        "\n",
        "El tipo de dato puede especificarse usando una cadena de texto, como 'f' para flotante, 'i' para entero, etc.\n",
        "\n",
        "O también se puede usar el tipo de dato directamente, como float para flotante e int para entero."
      ],
      "metadata": {
        "id": "6MHoh8dfuXEZ"
      }
    },
    {
      "cell_type": "code",
      "source": [
        "arr=np.array((1.2, 20.2, 30.9))\n",
        "print(arr)\n",
        "print(arr.dtype)\n",
        "\n",
        "arr2=arr.astype(int) # (\"i\") int32 / (int) int64\n",
        "print(arr2)\n",
        "print(arr2.dtype)"
      ],
      "metadata": {
        "id": "TgM65qL1uNFf",
        "colab": {
          "base_uri": "https://localhost:8080/"
        },
        "outputId": "035ed2da-5649-4f0a-b62d-7020277f6754"
      },
      "execution_count": 51,
      "outputs": [
        {
          "output_type": "stream",
          "name": "stdout",
          "text": [
            "[ 1.2 20.2 30.9]\n",
            "float64\n",
            "[ 1 20 30]\n",
            "int64\n"
          ]
        }
      ]
    },
    {
      "cell_type": "code",
      "source": [
        "arr=np.array((1.2,20.2 ,30.3))\n",
        "print(arr)\n",
        "print(arr.dtype)\n",
        "\n",
        "\n",
        "arr2=arr.astype(int)\n",
        "print(arr2)\n",
        "print(arr2.dtype)"
      ],
      "metadata": {
        "id": "uJdQ_OVqvSeS",
        "colab": {
          "base_uri": "https://localhost:8080/"
        },
        "outputId": "511f03f6-d250-42c1-e9b1-f8984a83eea0"
      },
      "execution_count": 52,
      "outputs": [
        {
          "output_type": "stream",
          "name": "stdout",
          "text": [
            "[ 1.2 20.2 30.3]\n",
            "float64\n",
            "[ 1 20 30]\n",
            "int64\n"
          ]
        }
      ]
    },
    {
      "cell_type": "markdown",
      "source": [
        "## Indexación en Arrays de NumPy\n",
        "Acceder a los elementos del array:\n",
        "\n",
        "La indexación en arrays es lo mismo que acceder a un elemento del array.\n",
        "\n",
        "Puedes acceder a un elemento del array refiriéndote a su número de índice.\n",
        "\n",
        "Los índices en los arrays de NumPy comienzan en 0, lo que significa que el primer elemento tiene el índice 0, el segundo el índice 1, y así sucesivamente."
      ],
      "metadata": {
        "id": "pdmg085NUFrK"
      }
    },
    {
      "cell_type": "code",
      "source": [
        "#Acceder al primer elemento\n",
        "\n",
        "arr= np.array([10,20,30,40,50,60,70,80,90,100])\n",
        "\n",
        "print(arr[-1]) # 100\n",
        "print(arr[0]) # 0"
      ],
      "metadata": {
        "id": "T4YHum-cve2C",
        "colab": {
          "base_uri": "https://localhost:8080/"
        },
        "outputId": "70d420f9-9ebc-40a9-a436-d52e46652c82"
      },
      "execution_count": 54,
      "outputs": [
        {
          "output_type": "stream",
          "name": "stdout",
          "text": [
            "100\n"
          ]
        }
      ]
    },
    {
      "cell_type": "code",
      "source": [
        "#Accedemos al segundo\n",
        "\n",
        "arr= np.array([10,20,30,40,50,60,70,80,90,100])\n",
        "\n",
        "print(arr[1])"
      ],
      "metadata": {
        "id": "49jiwYjlUf3b"
      },
      "execution_count": null,
      "outputs": []
    },
    {
      "cell_type": "code",
      "source": [
        "# Obtén el tercer y cuarto elemento del siguiente array y súmalos.\n",
        "\n",
        "arr= np.array([10,20,30,40,50,60,70,80,90,100])\n",
        "\n",
        "print(arr[2]+arr[3])"
      ],
      "metadata": {
        "id": "AFhg0D75U0tq"
      },
      "execution_count": null,
      "outputs": []
    },
    {
      "cell_type": "markdown",
      "source": [
        "## Acceder a arrays 2-D\n",
        "\n",
        "Para acceder a elementos de arrays 2-D, podemos usar enteros separados por comas que representan la dimensión (fila) y el índice del elemento (columna).\n",
        "\n",
        "El índice de la dimensión también comienza en 0"
      ],
      "metadata": {
        "id": "DdgqS-P4U_E1"
      }
    },
    {
      "cell_type": "code",
      "source": [
        "arr = np.array([[10,20,30,40,50],[60,70,80,90,100]])\n",
        "np.info(arr)\n",
        "print(f\"El primer elemento de la primera dimensión {arr[0,0]}\") # matriz[fila][columna]"
      ],
      "metadata": {
        "id": "R50R1vedU8bY",
        "colab": {
          "base_uri": "https://localhost:8080/"
        },
        "outputId": "44b2f0bc-2fe7-495b-beb5-a28ba31c2527"
      },
      "execution_count": 57,
      "outputs": [
        {
          "output_type": "stream",
          "name": "stdout",
          "text": [
            "class:  ndarray\n",
            "shape:  (2, 5)\n",
            "strides:  (40, 8)\n",
            "itemsize:  8\n",
            "aligned:  True\n",
            "contiguous:  True\n",
            "fortran:  False\n",
            "data pointer: 0x2a79020\n",
            "byteorder:  little\n",
            "byteswap:  False\n",
            "type: int64\n",
            "El primer elemento de la primera dimensión 10\n"
          ]
        }
      ]
    },
    {
      "cell_type": "code",
      "source": [
        "arr = np.array([[10,20,30,40,50],[60,70,80,90,100]])\n",
        "\n",
        "print(f\"El primer elemento de la segunda dimensión {arr[1,0]}\")\n",
        "print(f\"El primer elemento de la segunda dimensión {arr[1,2:]}\") #[80  90 100]\n",
        "print(f\"El primer elemento de la segunda dimensión {arr[1,:3]}\") #[60 70 80]"
      ],
      "metadata": {
        "id": "ZgnPuR40VcYj",
        "colab": {
          "base_uri": "https://localhost:8080/"
        },
        "outputId": "f355445b-eb40-4a68-9eff-850486776286"
      },
      "execution_count": 61,
      "outputs": [
        {
          "output_type": "stream",
          "name": "stdout",
          "text": [
            "El primer elemento de la segunda dimensión 60\n",
            "El primer elemento de la segunda dimensión [ 80  90 100]\n",
            "El primer elemento de la segunda dimensión [60 70 80]\n"
          ]
        }
      ]
    },
    {
      "cell_type": "markdown",
      "source": [
        "Revisar slicing para obtener subconjuntos"
      ],
      "metadata": {
        "id": "n5idTtqloH0Y"
      }
    },
    {
      "cell_type": "markdown",
      "source": [
        "## **Negative Indexing**\n",
        "\n",
        ">Use negative indexing to access an array from the end."
      ],
      "metadata": {
        "id": "FJdB13YiYOvU"
      }
    },
    {
      "cell_type": "code",
      "source": [
        "arr = np.array([[10,20,30,40,50],[60,70,80,90,100]])\n",
        "\n",
        "print(f\"Last element from first Dimension {arr[0,-1]}\")"
      ],
      "metadata": {
        "id": "So_7sxvcWe3Z"
      },
      "execution_count": null,
      "outputs": []
    },
    {
      "cell_type": "markdown",
      "source": [
        "## Forma (Shape) de un array en NumPy\n",
        "\n",
        "La forma de un array es la cantidad de elementos en cada dimensión.\n",
        "\n",
        "Los arrays de NumPy tienen un atributo llamado shape que devuelve una tupla, donde cada índice representa la cantidad de elementos en la dimensión correspondiente."
      ],
      "metadata": {
        "id": "Nuqv_4H2h0dv"
      }
    },
    {
      "cell_type": "code",
      "source": [
        "#Imprimir el shape de una array de 2D\n",
        "\n",
        "arr = np.array([[1, 2, 3, 4], [5, 6, 7, 8]])\n",
        "\n",
        "print(arr.shape)  #SALIDA 2 ⇒ Dos elementos en la primera dimensión 4 ⇒ Cuatro elementos en la segunda dimensión"
      ],
      "metadata": {
        "id": "y12iXm4iftk7"
      },
      "execution_count": null,
      "outputs": []
    },
    {
      "cell_type": "markdown",
      "source": [
        "## Cambio de forma (Reshape) de arrays en NumPy\n",
        "\n",
        "Al aplicar reshape podemos agregar o eliminar dimensiones o cambiar la cantidad de elementos en cada dimensión.\n",
        "\n",
        "Convertir de 1-D a 2-D\n",
        "\n",
        "La dimensión más externa tendrá 2 arrays, cada uno con 6 elementos."
      ],
      "metadata": {
        "id": "72tqFxoclXJ4"
      }
    },
    {
      "cell_type": "code",
      "source": [
        "#Convierte el siguiente array 1-D con 12 elementos en un array 2-D.\n",
        "arr = np.array([1, 2, 3, 4, 5, 6, 7, 8, 9, 10, 11, 12])\n",
        "\n",
        "newarr = arr.reshape(2, 6)\n",
        "\n",
        "print(newarr)"
      ],
      "metadata": {
        "id": "40qbGjNnm_Yd"
      },
      "execution_count": null,
      "outputs": []
    },
    {
      "cell_type": "markdown",
      "source": [
        "## Convertir de 1-D a 3-D\n",
        "\n",
        "La dimensión más externa tendrá 2 arrays, que contienen 2 arrays cada uno, con 3 elementos cada uno."
      ],
      "metadata": {
        "id": "RfksPtW5nqdT"
      }
    },
    {
      "cell_type": "code",
      "source": [
        "#Convierte el siguiente array 1-D con 12 elementos en un array 3-D.\n",
        "\n",
        "arr = np.array([1, 2, 3, 4, 5, 6, 7, 8, 9, 10, 11, 12])\n",
        "\n",
        "newarr = arr.reshape(2,2,3)\n",
        "print(newarr)"
      ],
      "metadata": {
        "id": "PmX5Zt6lnOgT"
      },
      "execution_count": null,
      "outputs": []
    },
    {
      "cell_type": "markdown",
      "source": [
        "## ¿Podemos cambiar la forma (reshape) a cualquier forma?\n",
        "\n",
        "Sí, siempre que la cantidad de elementos necesaria para el cambio de forma sea igual en ambas formas.\n",
        "\n",
        "Podemos transformar un array 1-D de 8 elementos en un array 2-D con 2 filas de 4 elementos,\n",
        "pero no podemos convertirlo en un array 2-D de 3 filas con 3 elementos, ya que eso requeriría 3 × 3 = 9 elementos."
      ],
      "metadata": {
        "id": "z6jdeiEXoK9c"
      }
    }
  ]
}