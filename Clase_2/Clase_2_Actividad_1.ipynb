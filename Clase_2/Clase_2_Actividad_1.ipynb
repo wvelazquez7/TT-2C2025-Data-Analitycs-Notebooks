{
  "nbformat": 4,
  "nbformat_minor": 0,
  "metadata": {
    "colab": {
      "provenance": [],
      "authorship_tag": "ABX9TyOM7WIHCxypPcNemSKL39rs"
    },
    "kernelspec": {
      "name": "python3",
      "display_name": "Python 3"
    },
    "language_info": {
      "name": "python"
    }
  },
  "cells": [
    {
      "cell_type": "markdown",
      "source": [
        "# Ejercicio 1. Lambda"
      ],
      "metadata": {
        "id": "KBEiKOiHFtcy"
      }
    },
    {
      "cell_type": "markdown",
      "source": [
        "Declara una función lambda llamada mayor que reciba dos números y devuelva el mayor de los dos.\n",
        "<BR>\n",
        "Prueba con los pares: (7, 3), (10, 15).\n",
        "<BR>\n",
        "Qué sucede si son iguales (20, 20)?"
      ],
      "metadata": {
        "id": "KkZLAEDmF-dY"
      }
    },
    {
      "cell_type": "code",
      "execution_count": 19,
      "metadata": {
        "id": "gRD0-JE3EXZ4",
        "outputId": "78e97939-d556-4e90-ad2d-3d3db458a539",
        "colab": {
          "base_uri": "https://localhost:8080/"
        }
      },
      "outputs": [
        {
          "output_type": "stream",
          "name": "stdout",
          "text": [
            "20\n"
          ]
        }
      ],
      "source": [
        "# Tu código aquí\n",
        "mayor = lambda x, y: x if x > y else y\n",
        "print(mayor(20,20))"
      ]
    },
    {
      "cell_type": "code",
      "source": [
        "mayor = lambda x,y : x if x>y else (y if x<y else 'Son iguales')\n",
        "print(mayor(20,20))"
      ],
      "metadata": {
        "id": "v7-ZGRPgov5B",
        "outputId": "4bf45c48-0455-412c-b079-997ac3090cd5",
        "colab": {
          "base_uri": "https://localhost:8080/"
        }
      },
      "execution_count": 20,
      "outputs": [
        {
          "output_type": "stream",
          "name": "stdout",
          "text": [
            "Son iguales\n"
          ]
        }
      ]
    },
    {
      "cell_type": "code",
      "source": [
        "mayor = lambda x,y: \"Iguales\" if x == y else \"Diferentes\"\n",
        "print(mayor(20,20))"
      ],
      "metadata": {
        "id": "SN77uCuFpQKB"
      },
      "execution_count": null,
      "outputs": []
    },
    {
      "cell_type": "markdown",
      "source": [
        "# Ejercicio 2. Lambda"
      ],
      "metadata": {
        "id": "jOQzCnNmGD4a"
      }
    },
    {
      "cell_type": "markdown",
      "source": [
        "Declara una función lambda llamada cuadrado que reciba un número y devuelva ese número al cuadrado.\n",
        "Prueba tu función con los valores 2, 5 y 10.\n",
        "<BR>\n",
        "*Hint* usar pow de math"
      ],
      "metadata": {
        "id": "CzdL_z0GHeva"
      }
    },
    {
      "cell_type": "code",
      "source": [
        "# Tu código aquí"
      ],
      "metadata": {
        "id": "kuc5kIGtHt2n"
      },
      "execution_count": null,
      "outputs": []
    },
    {
      "cell_type": "markdown",
      "source": [
        "# Ejercicio 3. List Comprehension"
      ],
      "metadata": {
        "id": "Zl6pnzu_JEjd"
      }
    },
    {
      "cell_type": "markdown",
      "source": [
        "Convertir montos y aplicar IVA\n",
        "<BR>\n",
        "Objetivo: pasar montos en USD a ARS"
      ],
      "metadata": {
        "id": "ToPga-kzKQ0E"
      }
    },
    {
      "cell_type": "code",
      "source": [
        "ventas = [\n",
        "    {\"id\": 1, \"monto_usd\": 10.0},\n",
        "    {\"id\": 2, \"monto_usd\": 25.5},\n",
        "    {\"id\": 3, \"monto_usd\": 13.2},\n",
        "]\n",
        "tipo_cambio = 1350\n",
        "iva =  1.21\n",
        "\n",
        "\n",
        "# 👉 Generar lista de montos finales en ARS (redondeados a 2 decimales)\n",
        "montos_finales_ars =  [ {\"precio_ars\" : round(venta[\"monto_usd\"]*tipo_cambio,2)*iva} for venta in ventas ]\n",
        "print(montos_finales_ars)  # Ej: [?, ?, ?]\n",
        "\n",
        "diccionario_ars = { item[\"id\"]:round(item[\"monto_usd\"]*tipo_cambio,2)*iva for item in ventas }\n",
        "print(diccionario_ars)"
      ],
      "metadata": {
        "id": "KRigrrXrKXXJ",
        "outputId": "ce9a932f-a7e2-40a0-ba94-925229db1623",
        "colab": {
          "base_uri": "https://localhost:8080/"
        }
      },
      "execution_count": 29,
      "outputs": [
        {
          "output_type": "stream",
          "name": "stdout",
          "text": [
            "[{'precio_ars': 16335.0}, {'precio_ars': 41654.25}, {'precio_ars': 21562.2}]\n",
            "{1: 16335.0, 2: 41654.25, 3: 21562.2}\n"
          ]
        }
      ]
    },
    {
      "cell_type": "markdown",
      "source": [
        "Ejercicio 4. List Comprehension"
      ],
      "metadata": {
        "id": "d6YKawUYJsBU"
      }
    },
    {
      "cell_type": "markdown",
      "source": [
        "Crear una lista con el IMC de cada paciente (redondeado a 1 decimal)."
      ],
      "metadata": {
        "id": "Zk2FAh0gNEbU"
      }
    },
    {
      "cell_type": "code",
      "source": [
        "# Tu código aquí\n",
        "pacientes = [\n",
        "    {\"nombre\": \"Ana\", \"peso_kg\": 62, \"altura_m\": 1.65},\n",
        "    {\"nombre\": \"Luis\", \"peso_kg\": 80, \"altura_m\": 1.78},\n",
        "    {\"nombre\": \"Mia\", \"peso_kg\": 54, \"altura_m\": 1.60},\n",
        "]\n",
        "\n",
        "# IMC = peso_kg / (altura_m ** 2)\n",
        "imc = [ {paciente[\"nombre\"] : round(paciente[\"peso_kg\"] / paciente[\"altura_m\"]**2,2)} for paciente in pacientes ]\n",
        "# imc = [ {paciente[\"nombre\"] : round(paciente[\"peso_kg\"] / paciente[\"altura_m\"]**2,2)} for paciente in pacientes ]\n",
        "print(imc[0][\"Ana\"])\n",
        "\n"
      ],
      "metadata": {
        "id": "cSq_E63kNGwh",
        "outputId": "829cc8be-fd31-4af5-9681-61f05de9065c",
        "colab": {
          "base_uri": "https://localhost:8080/"
        }
      },
      "execution_count": null,
      "outputs": [
        {
          "output_type": "stream",
          "name": "stdout",
          "text": [
            "22.77\n"
          ]
        }
      ]
    },
    {
      "cell_type": "markdown",
      "source": [
        "Ejercicio 5. List Comprehension"
      ],
      "metadata": {
        "id": "kVXLCrb_NRDv"
      }
    },
    {
      "cell_type": "markdown",
      "source": [
        "Con condicional: filtrar y transformar temperaturas\n",
        "<BR>\n",
        "Objetivo: quedarte solo con temperaturas numéricas > 25°C y convertirlas a °F."
      ],
      "metadata": {
        "id": "ZVU-eXyHNT7v"
      }
    },
    {
      "cell_type": "code",
      "source": [
        "\n",
        "# Tu código aquí\n",
        "temperaturas = [23, 29.2, None, 31, 18, \"N/A\", 27]\n",
        "\n",
        "#  °F = °C * 9/5 + 32\n",
        "temps_f = [ {t:(t*9/5 + 32)} for t in temperaturas if isinstance(t, (int, float)) and t>25  ]\n",
        "print(\"Lista de diccionarios: \", temps_f)\n",
        "temps_f_dic = { t:(t*9/5 + 32) for t in temperaturas if isinstance(t, (int, float)) and t>25  }\n",
        "print(\"Diccionario: \", temps_f_dic)\n",
        "temp_matriz = [ [t, t*9/5 + 32 ]  for t in temperaturas if isinstance(t, (int, float)) and t>25 ]\n",
        "for temp in temp_matriz:\n",
        "  print(f\"{temp[0]} {temp[1]}\\n\")"
      ],
      "metadata": {
        "id": "394myMKBuLG6",
        "outputId": "924c0235-c815-40df-de47-658c2b6ecb16",
        "colab": {
          "base_uri": "https://localhost:8080/"
        }
      },
      "execution_count": 44,
      "outputs": [
        {
          "output_type": "stream",
          "name": "stdout",
          "text": [
            "Lista de diccionarios:  [{29.2: 84.56}, {31: 87.8}, {27: 80.6}]\n",
            "Diccionario:  {29.2: 84.56, 31: 87.8, 27: 80.6}\n",
            "29.2 84.56\n",
            "\n",
            "31 87.8\n",
            "\n",
            "27 80.6\n",
            "\n"
          ]
        }
      ]
    },
    {
      "cell_type": "markdown",
      "source": [
        "# Ejercicio 6\n"
      ],
      "metadata": {
        "id": "RRj0-2IcNdsQ"
      }
    },
    {
      "cell_type": "markdown",
      "source": [
        "Con condicional: limpiar y convertir métricas\n",
        "<BR>\n",
        "Objetivo: de una lista de strings con números y “ruido” (N/A, 0, vacío),\n",
        "obtener solo enteros válidos > 0.\n",
        "<BR>\n",
        "*Hint* round, isinstance, o str.isdigit()"
      ],
      "metadata": {
        "id": "0B3_GK_QNiUZ"
      }
    },
    {
      "cell_type": "code",
      "source": [
        "clicks_str = [\"100\", \"N/A\", \"250\", \"0\", \"\", \"300\", \"—\", \"75\"]\n",
        "\n",
        "clicks_validos = [ int(s) for s in clicks_str if s.isdigit() and int(s)>0]\n",
        "# clicks_validos = [ int(s) for s in clicks_str if int(s)>0 and s.isdigit()] No anda\n",
        "print(clicks_validos)  # Ej: [100, 250, 300, 75]"
      ],
      "metadata": {
        "id": "TeAIg3BHNoyl",
        "outputId": "87fee4ea-84b9-4cc7-ae24-62f213e6ac34",
        "colab": {
          "base_uri": "https://localhost:8080/"
        }
      },
      "execution_count": 50,
      "outputs": [
        {
          "output_type": "stream",
          "name": "stdout",
          "text": [
            "[100, 250, 300, 75]\n"
          ]
        }
      ]
    }
  ]
}